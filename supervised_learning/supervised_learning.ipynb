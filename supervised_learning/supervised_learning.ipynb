{
 "cells": [
  {
   "cell_type": "markdown",
   "metadata": {
    "toc": true
   },
   "source": [
    "<h1>Содержание<span class=\"tocSkip\"></span></h1>\n",
    "<div class=\"toc\"><ul class=\"toc-item\"><li><span><a href=\"#Настройка-проекта.\" data-toc-modified-id=\"Настройка-проекта.-1\"><span class=\"toc-item-num\">1&nbsp;&nbsp;</span>Настройка проекта.</a></span><ul class=\"toc-item\"><li><span><a href=\"#Импорт-необходимых-для-исследования-библиотек,-модулей,-классов-и-функций.\" data-toc-modified-id=\"Импорт-необходимых-для-исследования-библиотек,-модулей,-классов-и-функций.-1.1\"><span class=\"toc-item-num\">1.1&nbsp;&nbsp;</span>Импорт необходимых для исследования библиотек, модулей, классов и функций.</a></span></li><li><span><a href=\"#Оптимизация-отображения.\" data-toc-modified-id=\"Оптимизация-отображения.-1.2\"><span class=\"toc-item-num\">1.2&nbsp;&nbsp;</span>Оптимизация отображения.</a></span></li><li><span><a href=\"#Используемые-пользовательские-функции,-классы-и-глобальные-переменные.\" data-toc-modified-id=\"Используемые-пользовательские-функции,-классы-и-глобальные-переменные.-1.3\"><span class=\"toc-item-num\">1.3&nbsp;&nbsp;</span>Используемые пользовательские функции, классы и глобальные переменные.</a></span><ul class=\"toc-item\"><li><span><a href=\"#Глобальные-переменные.\" data-toc-modified-id=\"Глобальные-переменные.-1.3.1\"><span class=\"toc-item-num\">1.3.1&nbsp;&nbsp;</span>Глобальные переменные.</a></span></li><li><span><a href=\"#Классы.\" data-toc-modified-id=\"Классы.-1.3.2\"><span class=\"toc-item-num\">1.3.2&nbsp;&nbsp;</span>Классы.</a></span><ul class=\"toc-item\"><li><span><a href=\"#MyChurnDataTransormer.\" data-toc-modified-id=\"MyChurnDataTransormer.-1.3.2.1\"><span class=\"toc-item-num\">1.3.2.1&nbsp;&nbsp;</span>MyChurnDataTransormer.</a></span></li></ul></li><li><span><a href=\"#Функции.\" data-toc-modified-id=\"Функции.-1.3.3\"><span class=\"toc-item-num\">1.3.3&nbsp;&nbsp;</span>Функции.</a></span><ul class=\"toc-item\"><li><span><a href=\"#Безопасная-загрузка-данных-из-одного-из-возможных-источников-с-обработкой-исключений-и-оптимизацией.\" data-toc-modified-id=\"Безопасная-загрузка-данных-из-одного-из-возможных-источников-с-обработкой-исключений-и-оптимизацией.-1.3.3.1\"><span class=\"toc-item-num\">1.3.3.1&nbsp;&nbsp;</span>Безопасная загрузка данных из одного из возможных источников с обработкой исключений и оптимизацией.</a></span></li><li><span><a href=\"#Правило-Стерджеса.\" data-toc-modified-id=\"Правило-Стерджеса.-1.3.3.2\"><span class=\"toc-item-num\">1.3.3.2&nbsp;&nbsp;</span>Правило Стерджеса.</a></span></li><li><span><a href=\"#Сохранение-построенных-графиков.\" data-toc-modified-id=\"Сохранение-построенных-графиков.-1.3.3.3\"><span class=\"toc-item-num\">1.3.3.3&nbsp;&nbsp;</span>Сохранение построенных графиков.</a></span></li><li><span><a href=\"#Confusion-Matrix.\" data-toc-modified-id=\"Confusion-Matrix.-1.3.3.4\"><span class=\"toc-item-num\">1.3.3.4&nbsp;&nbsp;</span>Confusion Matrix.</a></span></li><li><span><a href=\"#ROC-Анализ-и-Precision-Recall-Анализ.\" data-toc-modified-id=\"ROC-Анализ-и-Precision-Recall-Анализ.-1.3.3.5\"><span class=\"toc-item-num\">1.3.3.5&nbsp;&nbsp;</span>ROC Анализ и Precision-Recall Анализ.</a></span></li></ul></li></ul></li></ul></li><li><span><a href=\"#Подготовка-данных\" data-toc-modified-id=\"Подготовка-данных-2\"><span class=\"toc-item-num\">2&nbsp;&nbsp;</span>Подготовка данных</a></span><ul class=\"toc-item\"><li><span><a href=\"#Предподготовка.\" data-toc-modified-id=\"Предподготовка.-2.1\"><span class=\"toc-item-num\">2.1&nbsp;&nbsp;</span>Предподготовка.</a></span><ul class=\"toc-item\"><li><span><a href=\"#Загрузка-данных.\" data-toc-modified-id=\"Загрузка-данных.-2.1.1\"><span class=\"toc-item-num\">2.1.1&nbsp;&nbsp;</span>Загрузка данных.</a></span></li><li><span><a href=\"#Разделение-исходных-данных.\" data-toc-modified-id=\"Разделение-исходных-данных.-2.1.2\"><span class=\"toc-item-num\">2.1.2&nbsp;&nbsp;</span>Разделение исходных данных.</a></span></li><li><span><a href=\"#Проверка-пропорциональности.\" data-toc-modified-id=\"Проверка-пропорциональности.-2.1.3\"><span class=\"toc-item-num\">2.1.3&nbsp;&nbsp;</span>Проверка пропорциональности.</a></span></li><li><span><a href=\"#Проверка-стратифицированности.\" data-toc-modified-id=\"Проверка-стратифицированности.-2.1.4\"><span class=\"toc-item-num\">2.1.4&nbsp;&nbsp;</span>Проверка стратифицированности.</a></span></li><li><span><a href=\"#Создание-обучающих-и-валидационных-выборок.\" data-toc-modified-id=\"Создание-обучающих-и-валидационных-выборок.-2.1.5\"><span class=\"toc-item-num\">2.1.5&nbsp;&nbsp;</span>Создание обучающих и валидационных выборок.</a></span></li></ul></li><li><span><a href=\"#Анализ-данных-(на-trainval-выборке).\" data-toc-modified-id=\"Анализ-данных-(на-trainval-выборке).-2.2\"><span class=\"toc-item-num\">2.2&nbsp;&nbsp;</span>Анализ данных (на trainval выборке).</a></span><ul class=\"toc-item\"><li><span><a href=\"#Описание-данных.\" data-toc-modified-id=\"Описание-данных.-2.2.1\"><span class=\"toc-item-num\">2.2.1&nbsp;&nbsp;</span>Описание данных.</a></span></li><li><span><a href=\"#Предварительное-исследование-данных.\" data-toc-modified-id=\"Предварительное-исследование-данных.-2.2.2\"><span class=\"toc-item-num\">2.2.2&nbsp;&nbsp;</span>Предварительное исследование данных.</a></span><ul class=\"toc-item\"><li><span><a href=\"#Внешний-вид-данных.\" data-toc-modified-id=\"Внешний-вид-данных.-2.2.2.1\"><span class=\"toc-item-num\">2.2.2.1&nbsp;&nbsp;</span>Внешний вид данных.</a></span></li><li><span><a href=\"#Информация-о-данных-и-пропусках.\" data-toc-modified-id=\"Информация-о-данных-и-пропусках.-2.2.2.2\"><span class=\"toc-item-num\">2.2.2.2&nbsp;&nbsp;</span>Информация о данных и пропусках.</a></span></li><li><span><a href=\"#Корреляции-в-данных.\" data-toc-modified-id=\"Корреляции-в-данных.-2.2.2.3\"><span class=\"toc-item-num\">2.2.2.3&nbsp;&nbsp;</span>Корреляции в данных.</a></span></li><li><span><a href=\"#Спектр-данных.\" data-toc-modified-id=\"Спектр-данных.-2.2.2.4\"><span class=\"toc-item-num\">2.2.2.4&nbsp;&nbsp;</span>Спектр данных.</a></span></li><li><span><a href=\"#Дубликаты-в-данных.\" data-toc-modified-id=\"Дубликаты-в-данных.-2.2.2.5\"><span class=\"toc-item-num\">2.2.2.5&nbsp;&nbsp;</span>Дубликаты в данных.</a></span></li></ul></li><li><span><a href=\"#Выводы-из-анализа-данных.\" data-toc-modified-id=\"Выводы-из-анализа-данных.-2.2.3\"><span class=\"toc-item-num\">2.2.3&nbsp;&nbsp;</span>Выводы из анализа данных.</a></span></li></ul></li><li><span><a href=\"#Трансформация-данных.\" data-toc-modified-id=\"Трансформация-данных.-2.3\"><span class=\"toc-item-num\">2.3&nbsp;&nbsp;</span>Трансформация данных.</a></span></li><li><span><a href=\"#Данные-для-обучения-и-валидации.\" data-toc-modified-id=\"Данные-для-обучения-и-валидации.-2.4\"><span class=\"toc-item-num\">2.4&nbsp;&nbsp;</span>Данные для обучения и валидации.</a></span></li></ul></li><li><span><a href=\"#Исследование-задачи.\" data-toc-modified-id=\"Исследование-задачи.-3\"><span class=\"toc-item-num\">3&nbsp;&nbsp;</span>Исследование задачи.</a></span><ul class=\"toc-item\"><li><span><a href=\"#Исходные-данные.\" data-toc-modified-id=\"Исходные-данные.-3.1\"><span class=\"toc-item-num\">3.1&nbsp;&nbsp;</span>Исходные данные.</a></span></li><li><span><a href=\"#Быстрая-оценка-моделей.\" data-toc-modified-id=\"Быстрая-оценка-моделей.-3.2\"><span class=\"toc-item-num\">3.2&nbsp;&nbsp;</span>Быстрая оценка моделей.</a></span></li><li><span><a href=\"#Оценка-гиперпараметров.\" data-toc-modified-id=\"Оценка-гиперпараметров.-3.3\"><span class=\"toc-item-num\">3.3&nbsp;&nbsp;</span>Оценка гиперпараметров.</a></span></li><li><span><a href=\"#Вывод.\" data-toc-modified-id=\"Вывод.-3.4\"><span class=\"toc-item-num\">3.4&nbsp;&nbsp;</span>Вывод.</a></span></li></ul></li><li><span><a href=\"#Борьба-с-дисбалансом.\" data-toc-modified-id=\"Борьба-с-дисбалансом.-4\"><span class=\"toc-item-num\">4&nbsp;&nbsp;</span>Борьба с дисбалансом.</a></span><ul class=\"toc-item\"><li><span><a href=\"#Class-Weight.\" data-toc-modified-id=\"Class-Weight.-4.1\"><span class=\"toc-item-num\">4.1&nbsp;&nbsp;</span>Class Weight.</a></span><ul class=\"toc-item\"><li><span><a href=\"#DecisionTreeClassifier.\" data-toc-modified-id=\"DecisionTreeClassifier.-4.1.1\"><span class=\"toc-item-num\">4.1.1&nbsp;&nbsp;</span>DecisionTreeClassifier.</a></span></li><li><span><a href=\"#RandomForestClassifier.\" data-toc-modified-id=\"RandomForestClassifier.-4.1.2\"><span class=\"toc-item-num\">4.1.2&nbsp;&nbsp;</span>RandomForestClassifier.</a></span></li></ul></li><li><span><a href=\"#Upsampling.\" data-toc-modified-id=\"Upsampling.-4.2\"><span class=\"toc-item-num\">4.2&nbsp;&nbsp;</span>Upsampling.</a></span><ul class=\"toc-item\"><li><span><a href=\"#DecisionTreeClassifier.\" data-toc-modified-id=\"DecisionTreeClassifier.-4.2.1\"><span class=\"toc-item-num\">4.2.1&nbsp;&nbsp;</span>DecisionTreeClassifier.</a></span></li><li><span><a href=\"#RandomForestClassifier.\" data-toc-modified-id=\"RandomForestClassifier.-4.2.2\"><span class=\"toc-item-num\">4.2.2&nbsp;&nbsp;</span>RandomForestClassifier.</a></span></li><li><span><a href=\"#GradientBoostingClassifier.\" data-toc-modified-id=\"GradientBoostingClassifier.-4.2.3\"><span class=\"toc-item-num\">4.2.3&nbsp;&nbsp;</span>GradientBoostingClassifier.</a></span></li></ul></li><li><span><a href=\"#Downsampling.\" data-toc-modified-id=\"Downsampling.-4.3\"><span class=\"toc-item-num\">4.3&nbsp;&nbsp;</span>Downsampling.</a></span><ul class=\"toc-item\"><li><span><a href=\"#DecisionTreeClassifier.\" data-toc-modified-id=\"DecisionTreeClassifier.-4.3.1\"><span class=\"toc-item-num\">4.3.1&nbsp;&nbsp;</span>DecisionTreeClassifier.</a></span></li><li><span><a href=\"#RandomForestClassifier.\" data-toc-modified-id=\"RandomForestClassifier.-4.3.2\"><span class=\"toc-item-num\">4.3.2&nbsp;&nbsp;</span>RandomForestClassifier.</a></span></li><li><span><a href=\"#GradientBoostingClassifier.\" data-toc-modified-id=\"GradientBoostingClassifier.-4.3.3\"><span class=\"toc-item-num\">4.3.3&nbsp;&nbsp;</span>GradientBoostingClassifier.</a></span></li></ul></li><li><span><a href=\"#Вывод.\" data-toc-modified-id=\"Вывод.-4.4\"><span class=\"toc-item-num\">4.4&nbsp;&nbsp;</span>Вывод.</a></span></li></ul></li><li><span><a href=\"#Тестирование-модели.\" data-toc-modified-id=\"Тестирование-модели.-5\"><span class=\"toc-item-num\">5&nbsp;&nbsp;</span>Тестирование модели.</a></span><ul class=\"toc-item\"><li><span><a href=\"#Метрика-F1.\" data-toc-modified-id=\"Метрика-F1.-5.1\"><span class=\"toc-item-num\">5.1&nbsp;&nbsp;</span>Метрика F1.</a></span></li><li><span><a href=\"#Confusion-Matrix.\" data-toc-modified-id=\"Confusion-Matrix.-5.2\"><span class=\"toc-item-num\">5.2&nbsp;&nbsp;</span>Confusion Matrix.</a></span></li><li><span><a href=\"#ROC-и-PR-кривые.-AUC-метрики.-Sanity-test.\" data-toc-modified-id=\"ROC-и-PR-кривые.-AUC-метрики.-Sanity-test.-5.3\"><span class=\"toc-item-num\">5.3&nbsp;&nbsp;</span>ROC и PR кривые. AUC метрики. Sanity test.</a></span></li><li><span><a href=\"#Наиболее-значимые-признаки.\" data-toc-modified-id=\"Наиболее-значимые-признаки.-5.4\"><span class=\"toc-item-num\">5.4&nbsp;&nbsp;</span>Наиболее значимые признаки.</a></span></li></ul></li><li><span><a href=\"#Общий-вывод.\" data-toc-modified-id=\"Общий-вывод.-6\"><span class=\"toc-item-num\">6&nbsp;&nbsp;</span>Общий вывод.</a></span></li></ul></div>"
   ]
  },
  {
   "cell_type": "markdown",
   "metadata": {},
   "source": [
    "# Отток клиентов"
   ]
  },
  {
   "cell_type": "markdown",
   "metadata": {},
   "source": [
    "<img src=\"https://s3.amazonaws.com/thumbnails.illustrationsource.com/huge.14.74533.JPG\" width=\"170\" align=\"left\"/>Из «Бета-Банка» стали уходить клиенты. Каждый месяц. Немного, но заметно. Банковские маркетологи посчитали: сохранять текущих клиентов дешевле, чем привлекать новых.\n",
    "\n",
    "Нужно спрогнозировать, уйдёт клиент из банка в ближайшее время или нет. Вам предоставлены исторические данные о поведении клиентов и расторжении договоров с банком. \n",
    "\n",
    "Постройте модель с предельно большим значением *F1*-меры. Чтобы сдать проект успешно, нужно довести метрику до 0.59. Проверьте *F1*-меру на тестовой выборке самостоятельно.\n",
    "\n",
    "Дополнительно измеряйте *AUC-ROC*, сравнивайте её значение с *F1*-мерой.\n",
    "\n",
    "Источник данных: [https://www.kaggle.com/barelydedicated/bank-customer-churn-modeling](https://www.kaggle.com/barelydedicated/bank-customer-churn-modeling)\n",
    "\n",
    "\n",
    "<div align=\"right\">\n",
    "<br>Проект выполнен не без влияния книги:<br>\n",
    "<b>Hands-on Machine Learning with Scikit-Learn, Keras, and TensorFlow</b><br>\n",
    "<i>Concepts, Tools, and Techniques to Build Intelligent Systems<i/><br>\n",
    "<i>2019 Aurélien Géron<i/></div>\n"
   ]
  },
  {
   "cell_type": "markdown",
   "metadata": {},
   "source": [
    "## Настройка проекта."
   ]
  },
  {
   "cell_type": "markdown",
   "metadata": {},
   "source": [
    "### Импорт необходимых для исследования библиотек, модулей, классов и функций."
   ]
  },
  {
   "cell_type": "code",
   "execution_count": 1,
   "metadata": {},
   "outputs": [],
   "source": [
    "import json\n",
    "import numpy as np\n",
    "import pandas as pd\n",
    "import seaborn as sns\n",
    "import sys\n",
    "import warnings\n",
    "\n",
    "try:\n",
    "    from imblearn.under_sampling import RandomUnderSampler\n",
    "except ImportError:\n",
    "    !pip install imblearn\n",
    "    from imblearn.under_sampling import RandomUnderSampler\n",
    "from imblearn.over_sampling import SMOTE\n",
    "\n",
    "from csv import Sniffer; sniff = Sniffer().sniff\n",
    "from io import StringIO\n",
    "from itertools import product\n",
    "from joblib import dump, load\n",
    "from matplotlib import pyplot as plt\n",
    "from os.path import abspath, basename, exists, isfile\n",
    "from requests import head\n",
    "from scipy.stats import randint, uniform\n",
    "\n",
    "from sklearn.base import BaseEstimator, TransformerMixin\n",
    "from sklearn.compose import ColumnTransformer\n",
    "from sklearn.decomposition import PCA\n",
    "from sklearn.dummy import DummyClassifier\n",
    "from sklearn.ensemble import RandomForestClassifier, GradientBoostingClassifier\n",
    "from sklearn.impute import SimpleImputer\n",
    "from sklearn.metrics import (average_precision_score, confusion_matrix,\n",
    "                             f1_score, precision_recall_curve, roc_auc_score,\n",
    "                             roc_curve)\n",
    "from sklearn.model_selection import (GridSearchCV, RandomizedSearchCV,\n",
    "                                     StratifiedShuffleSplit)\n",
    "from sklearn.pipeline import Pipeline\n",
    "from sklearn.preprocessing import FunctionTransformer, OneHotEncoder, StandardScaler\n",
    "from sklearn.tree import DecisionTreeClassifier\n",
    "from sklearn.utils import check_array, check_X_y, resample, shuffle\n",
    "from sklearn.utils.validation import check_is_fitted\n",
    "\n",
    "from urllib.request import urlopen"
   ]
  },
  {
   "cell_type": "markdown",
   "metadata": {},
   "source": [
    "### Оптимизация отображения."
   ]
  },
  {
   "cell_type": "markdown",
   "metadata": {},
   "source": [
    "Снимем ограничения вывода на экран и оставляем три знака после запятой и пр."
   ]
  },
  {
   "cell_type": "code",
   "execution_count": 2,
   "metadata": {},
   "outputs": [],
   "source": [
    "# Display options for pandas DataFrame objects\n",
    "pd.set_option('display.max_rows', None)\n",
    "pd.set_option('display.max_columns', None)\n",
    "pd.set_option('display.max_colwidth', None)\n",
    "pd.options.display.float_format = '{:,.3f}'.format\n",
    "warnings.simplefilter('ignore')"
   ]
  },
  {
   "cell_type": "markdown",
   "metadata": {},
   "source": [
    "### Используемые пользовательские функции, классы и глобальные переменные."
   ]
  },
  {
   "cell_type": "markdown",
   "metadata": {},
   "source": [
    "#### Глобальные переменные."
   ]
  },
  {
   "cell_type": "code",
   "execution_count": 3,
   "metadata": {},
   "outputs": [],
   "source": [
    "RANDOM_STATE = 42\n",
    "CIVIDIS = False\n",
    "np.random.seed(RANDOM_STATE)"
   ]
  },
  {
   "cell_type": "markdown",
   "metadata": {},
   "source": [
    "#### Классы."
   ]
  },
  {
   "cell_type": "markdown",
   "metadata": {},
   "source": [
    "##### MyChurnDataTransormer."
   ]
  },
  {
   "cell_type": "code",
   "execution_count": 4,
   "metadata": {},
   "outputs": [],
   "source": [
    "class MyChurnDataTransormer(BaseEstimator, TransformerMixin):\n",
    "    def __init__(self, my_sampling_selector=0):\n",
    "        self.my_sampling_selector = my_sampling_selector\n",
    "        self.class_zeros = None\n",
    "        self.class_ones = None\n",
    "        self.is_fitted = False\n",
    "\n",
    "    def fit(self, X, y=None):\n",
    "        X, y = check_X_y(X, y, accept_sparse=True, ensure_2d=False)\n",
    "        combined = np.column_stack((X, y))\n",
    "        self.class_zeros = combined[y == 0]\n",
    "        self.class_ones = combined[y == 1]\n",
    "        self.is_fitted = True\n",
    "        return self\n",
    "\n",
    "    def _upsample(self):\n",
    "        class_ones_upsampled = resample(self.class_ones, replace=True, n_samples=len(self.class_zeros),\n",
    "                                        random_state=RANDOM_STATE)\n",
    "        upsampled_combined = np.concatenate((self.class_zeros, class_ones_upsampled))\n",
    "        upsampled_combined = shuffle(upsampled_combined, random_state=RANDOM_STATE)\n",
    "        X_upsampled = upsampled_combined[:, :-1]\n",
    "        y_upsampled = upsampled_combined[:, -1]\n",
    "        return X_upsampled,y_upsampled\n",
    "\n",
    "    def _downsample(self):\n",
    "        class_zeros_downsampled = resample(self.class_zeros, replace=False, n_samples=len(self.class_ones),\n",
    "                                           random_state=RANDOM_STATE)\n",
    "        downsampled_combined = np.concatenate((class_zeros_downsampled, self.class_ones))\n",
    "        downsampled_combined = shuffle(downsampled_combined, random_state=RANDOM_STATE)\n",
    "        X_downsampled = downsampled_combined[:, :-1]\n",
    "        y_downsampled = downsampled_combined[:, -1]\n",
    "        return X_downsampled, y_downsampled\n",
    "\n",
    "    def transform(self, X, y=None):\n",
    "        check_is_fitted(self, 'is_fitted')\n",
    "        X = check_array(X, accept_sparse=True)\n",
    "        if y is not None:\n",
    "            y = check_array(y, accept_sparse=True, ensure_2d=False)\n",
    "            if len(X) != len(y):\n",
    "                raise ValueError('Transform: Number of samples in X and y must be the same.')\n",
    "            if self.my_sampling_selector > 0:\n",
    "                return self._upsample()\n",
    "            elif self.my_sampling_selector < 0:\n",
    "                return self._downsample()\n",
    "            else:\n",
    "                return X, y\n",
    "        else:\n",
    "            return X, y\n",
    "\n",
    "    def fit_transform(self, X, y=None):\n",
    "        self.fit(X, y)\n",
    "        return self.transform(X, y)"
   ]
  },
  {
   "cell_type": "markdown",
   "metadata": {},
   "source": [
    "#### Функции."
   ]
  },
  {
   "cell_type": "markdown",
   "metadata": {},
   "source": [
    "##### Безопасная загрузка данных из одного из возможных источников с обработкой исключений и оптимизацией."
   ]
  },
  {
   "cell_type": "code",
   "execution_count": 5,
   "metadata": {},
   "outputs": [],
   "source": [
    "# Safe loading of data from one of the possible sources with exception handling and optimization\n",
    "# filename_dict - Dictionary that maps different locations to file paths or URLs\n",
    "\n",
    "def my_read_csv(filename_dict={}, logfile=None):\n",
    "\n",
    "    if logfile != None:\n",
    "        # Save the standard output stream in a variable\n",
    "        _stdout_orig = sys.stdout\n",
    "        # Open the log file for writing\n",
    "        _log_file = open(logfile, 'w')\n",
    "        # Redirect the standard output stream to the log file\n",
    "        sys.stdout = _log_file\n",
    "\n",
    "    # Check if file exists in local file system (isfile() from os.path)\n",
    "    if isfile(filename_dict.get('local')):\n",
    "        print('File exists locally')\n",
    "        _loc = 'local'\n",
    "    # Check if file exists on Practicum platform (isfile() from os.path)\n",
    "    elif isfile(filename_dict.get('practicum')):\n",
    "        print('File exists on Practicum')\n",
    "        _loc = 'practicum'\n",
    "    # Check if file exists on Yandex server (head() from requests)\n",
    "    elif head(filename_dict.get('ya')).status_code == 200:\n",
    "        print('File exists on Yandex server')\n",
    "        _loc = 'ya'\n",
    "    # Raise error if file not found in any location\n",
    "    else:\n",
    "        if logfile != None:\n",
    "            # Restore the standard output stream\n",
    "            sys.stdout = _stdout_orig\n",
    "            # Don't forget to close the file after finishing the work\n",
    "            _log_file.close()\n",
    "        raise RuntimeError('Something went wrong while finding the file.')\n",
    "\n",
    "    # Get filename based on location\n",
    "    _filename = filename_dict.get(_loc)\n",
    "    if _loc != 'ya':\n",
    "        print(f'Absolute file name: \\'{abspath(_filename)}\\'')\n",
    "    else:\n",
    "        print(f'Absolute file name: \\'{_filename}\\'')\n",
    "\n",
    "    # Determine delimiter used in CSV file\n",
    "    if _loc != 'ya':\n",
    "        try:\n",
    "            # Open file and read first 1024 bytes to determine delimiter (sniff() from csv Sniffer())\n",
    "            with open(_filename, 'r', encoding='utf-8') as _csvfile:\n",
    "                _dialect = sniff(_csvfile.read(1024))\n",
    "                print(f'Most likely delimiter in the file: \\'{_dialect.delimiter}\\'')\n",
    "        except Exception:\n",
    "            if logfile != None:\n",
    "                # Restore the standard output stream\n",
    "                sys.stdout = _stdout_orig\n",
    "                # Don't forget to close the file after finishing the work\n",
    "                _log_file.close()\n",
    "            raise RuntimeError('Something went wrong while opening the local|practicum file for delimiter analysis')\n",
    "    else:\n",
    "        try:\n",
    "            # Open URL and read first 1024 bytes to determine delimiter (urlopen() from urllib.request)\n",
    "            _response = urlopen(_filename)\n",
    "            # Creating file-like object (StringIO() from io)\n",
    "            _csvfile = StringIO()\n",
    "            # Writing the content of the variable _csvfile to the object\n",
    "            _csvfile.write(_response.read().decode('utf-8'))\n",
    "            # Moving the cursor to the beginning of the file\n",
    "            _csvfile.seek(0)\n",
    "            # Now _csvfile can be used as an opened file\n",
    "            _dialect = sniff(_csvfile.read(1024))\n",
    "            print(f'Most likely delimiter in the file: \\'{_dialect.delimiter}\\'')\n",
    "        except Exception:\n",
    "            if logfile != None:\n",
    "                # Restore the standard output stream\n",
    "                sys.stdout = _stdout_orig\n",
    "                # Don't forget to close the file after finishing the work\n",
    "                _log_file.close()\n",
    "            raise RuntimeError('Something went wrong while opening the url file for delimiter analysis')\n",
    "\n",
    "    # Read the first (for example) line of the file\n",
    "    if _loc != 'ya':\n",
    "        with open(_filename, 'r', encoding='utf-8') as _csvfile:\n",
    "            for i, line in enumerate(_csvfile):\n",
    "                if i == 0:\n",
    "                    print('The first line of the file:')\n",
    "                    print(line.rstrip('\\n'))\n",
    "                    break\n",
    "    else:\n",
    "        # Moving the cursor to the beginning of the file\n",
    "        _csvfile.seek(0)\n",
    "        for i, line in enumerate(_csvfile):\n",
    "            if i == 0:\n",
    "                print('The first line of the file:')\n",
    "                print(line.rstrip('\\n'))\n",
    "                break\n",
    "        # Closing the file-like object\n",
    "        _csvfile.close()\n",
    "\n",
    "    # Read CSV file into pandas DataFrame\n",
    "    try:\n",
    "        # Load CSV into pandas DataFrame using the appropriate delimiter\n",
    "        _df = pd.read_csv(_filename, \n",
    "                          sep=_dialect.delimiter, \n",
    "                          dtype=None)\n",
    "        print(f'CSV Data loaded into pandas DataFrame from \\'{_loc}\\'')\n",
    "        if _loc == 'ya':\n",
    "            _df.to_csv(basename(_filename), index=False)\n",
    "            print(f'CSV saved from \\'ya\\' to a local file in the current directory: {basename(_filename)}')\n",
    "    except Exception:\n",
    "        if logfile != None:\n",
    "            # Restore the standard output stream\n",
    "            sys.stdout = _stdout_orig\n",
    "            # Don't forget to close the file after finishing the work\n",
    "            _log_file.close()\n",
    "        raise RuntimeError('Something went wrong while opening the file as a CSV')\n",
    "\n",
    "    # The total size of the DataFrame in kbytes\n",
    "    # Sizes in bytes for each column summed\n",
    "    # Total size in kbytes\n",
    "    _total_memory_usage_kb = (_df.memory_usage(deep=True).sum() + \n",
    "                              _df.index.memory_usage() + \n",
    "                              _df.columns.memory_usage()) / 1024\n",
    "    print(f'Deep memory usage of the original DataFrame: {_total_memory_usage_kb:.2f} KB')\n",
    "\n",
    "    # Iterate over each column and convert values to the desired data type\n",
    "    for col in _df.columns:\n",
    "        if _df[col].dtype == 'float64':\n",
    "            pass\n",
    "            #_df[col] = _df[col].astype(np.float16)\n",
    "            #print(f'The column \\'{col}\\' has been converted from the \\'float64\\' type to the \\'np.float16\\' type')\n",
    "        elif _df[col].dtype == 'int64':\n",
    "            _df[col] = _df[col].astype(np.int32)\n",
    "            print(f'The column \\'{col}\\' has been converted from the \\'int64\\' type to the \\'np.int32\\' type')\n",
    "        #elif _df[col].dtype == 'object':\n",
    "            #_df[col] = _df[col].astype('category')    \n",
    "\n",
    "    _total_memory_usage_kb_opt = (_df.memory_usage(deep=True).sum() + \n",
    "                                  _df.index.memory_usage() + \n",
    "                                  _df.columns.memory_usage()) / 1024\n",
    "    print(f'Deep memory usage of the optimized DataFrame: {_total_memory_usage_kb_opt:.2f} KB')\n",
    "    print(f'Memory saving: {(_total_memory_usage_kb - _total_memory_usage_kb_opt):.2f} KB')\n",
    "\n",
    "    if logfile != None:\n",
    "        # Restore the standard output stream\n",
    "        sys.stdout = _stdout_orig\n",
    "        # Don't forget to close the file after finishing the work\n",
    "        _log_file.close()\n",
    "\n",
    "    return _df"
   ]
  },
  {
   "cell_type": "markdown",
   "metadata": {},
   "source": [
    "##### Правило Стерджеса."
   ]
  },
  {
   "cell_type": "code",
   "execution_count": 6,
   "metadata": {},
   "outputs": [],
   "source": [
    "# Custom function for Sturges-like rule\n",
    "def my_sturges(n=1000):\n",
    "    return 1 + int(3.322*np.log(n))\n",
    "#   return 1 + int(3.322*np.log10(n))"
   ]
  },
  {
   "cell_type": "markdown",
   "metadata": {},
   "source": [
    "##### Сохранение построенных графиков."
   ]
  },
  {
   "cell_type": "code",
   "execution_count": 7,
   "metadata": {},
   "outputs": [],
   "source": [
    "def my_save_fig(fig_id, tight_layout=True, fig_extension='png', resolution=300):\n",
    "    \n",
    "    import os\n",
    "    \n",
    "    # Set the path to save images\n",
    "    _IMAGES_PATH = ''\n",
    "    \n",
    "    # Join the filename and extension to create the full path for saving the image\n",
    "    _path = os.path.join(_IMAGES_PATH, fig_id + '.' + fig_extension)\n",
    "    \n",
    "    # Print a message indicating that the figure is being saved\n",
    "    print('Saving figure', fig_id)\n",
    "    \n",
    "    # Adjust the subplot parameters to make the plot fit nicely in the figure\n",
    "    if tight_layout:\n",
    "        plt.tight_layout()\n",
    "    \n",
    "    # Save the figure to a file\n",
    "    plt.savefig(_path, format=fig_extension, dpi=resolution)"
   ]
  },
  {
   "cell_type": "markdown",
   "metadata": {},
   "source": [
    "##### Confusion Matrix."
   ]
  },
  {
   "cell_type": "code",
   "execution_count": 8,
   "metadata": {},
   "outputs": [],
   "source": [
    "def my_confusion_matrix(model=None, target=None, predictions=None):\n",
    "    global CIVIDIS\n",
    "    _model_name = model.__class__.__name__\n",
    "    _cmap = ListedColormap(sns.color_palette('cividis', n_colors=256).as_hex()) if CIVIDIS else 'Blues'\n",
    "\n",
    "    _fig, _ax = plt.subplots(figsize=(4, 3))\n",
    "\n",
    "    _fig.suptitle(f'Confusion matrix для {_model_name}')\n",
    "\n",
    "    sns.heatmap(confusion_matrix(target, predictions, normalize='all'), \n",
    "                cmap=_cmap , \n",
    "                annot=True, \n",
    "                fmt='.2f', \n",
    "                ax=_ax, \n",
    "                vmin=0 if CIVIDIS else None, \n",
    "                vmax=1 if CIVIDIS else None)\n",
    "\n",
    "    plt.tight_layout()\n",
    "    plt.xlabel('Predicted')\n",
    "    plt.ylabel('True')\n",
    "    #my_save_fig(_model_name + '_confusion_matrix_plots')\n",
    "    plt.show()"
   ]
  },
  {
   "cell_type": "markdown",
   "metadata": {},
   "source": [
    "##### ROC Анализ и Precision-Recall Анализ."
   ]
  },
  {
   "cell_type": "code",
   "execution_count": 9,
   "metadata": {},
   "outputs": [],
   "source": [
    "def my_analyze_classification_performance(model=None, dummy=None, target=None, features=None):\n",
    "    # Getting model name\n",
    "    _model_name = model.__class__.__name__\n",
    "    \n",
    "    # Getting the probabilities of belonging to class 1 on the validation set\n",
    "    _target_train_pred_prob = model.predict_proba(features)[:, 1]\n",
    "    if dummy!= None:\n",
    "        _target_train_pred_prob_dummy = dummy.predict_proba(features)[:, 1]\n",
    "\n",
    "    _fig, _ax = plt.subplots(nrows=1, ncols=2, figsize=(12, 5))\n",
    "    _fig.suptitle(f'Производительность модели классификации {_model_name}')\n",
    "\n",
    "    # Calculating the values of fpr, tpr, and thresholds for ROC curve construction\n",
    "    _fpr, _tpr, _thresholds = roc_curve(target, _target_train_pred_prob)\n",
    "    if dummy != None:\n",
    "        _fpr_dummy, _tpr_dummy, _thresholds_dummy = roc_curve(target, _target_train_pred_prob_dummy)\n",
    "\n",
    "    # Calculating the value of AUC-ROC to evaluate the model quality\n",
    "    _auc_roc = roc_auc_score(target, _target_train_pred_prob)\n",
    "    if dummy != None:\n",
    "        _auc_roc_dummy = roc_auc_score(target, _target_train_pred_prob_dummy)\n",
    "\n",
    "    # Plotting the ROC curve\n",
    "    _ax[0].plot(_fpr, _tpr, color='SteelBlue', label='ROC Curve')\n",
    "    if dummy != None:\n",
    "        _ax[0].plot(_fpr_dummy, _tpr_dummy, '--', color='DarkRed', label=('Dummy ' + dummy.strategy))\n",
    "    else:\n",
    "        _ax[0].plot([0, 1], [0, 1], '--', color='DarkRed', label='Random Guess')\n",
    "    _ax[0].legend(loc='lower right')\n",
    "    if dummy != None:\n",
    "        _ax[0].set_title(f'ROC curve (AUC = {_auc_roc:.3f})\\nDummy {dummy.strategy} AUC = {_auc_roc_dummy:.3f}')\n",
    "    else:\n",
    "        _ax[0].set_title(f'ROC curve (AUC = {_auc_roc:.3f})')\n",
    "    _ax[0].set_xlabel('False Positive Rate')\n",
    "    _ax[0].set_ylabel('True Positive Rate')\n",
    "    _ax[0].grid(True)\n",
    "\n",
    "\n",
    "    # Calculating the values of precision and recall for PR curve construction\n",
    "    _precision, _recall, _thresholds = precision_recall_curve(target, _target_train_pred_prob)\n",
    "    if dummy != None:\n",
    "        _precision_dummy, _recall_dummy, _thresholds_dummy = precision_recall_curve(target, _target_train_pred_prob_dummy)\n",
    "\n",
    "    # Calculating the value of AUC-PR to evaluate the model quality\n",
    "    _auc_pr = average_precision_score(target, _target_train_pred_prob)\n",
    "    if dummy != None:\n",
    "        _auc_pr_dummy = average_precision_score(target, _target_train_pred_prob_dummy)\n",
    "\n",
    "    # Plotting the PR curve\n",
    "    _ax[1].plot(_recall, _precision, color='SteelBlue', label='Precision-Recall Curve')\n",
    "    if dummy != None:\n",
    "        _ax[1].plot(_recall_dummy, _precision_dummy, '--', color='DarkRed', label=('Dummy ' + dummy.strategy))\n",
    "    else:\n",
    "        _ax[1].plot([0, 1], [1, 0], '--', color='DarkRed', label='Random Guess')\n",
    "    _ax[1].legend(loc='lower left')\n",
    "    if dummy != None:\n",
    "        _ax[1].set_title(f'Precision-Recall curve (AUC = {_auc_pr:.3f})\\nDummy {dummy.strategy} AUC = {_auc_pr_dummy:.3f}')\n",
    "    else:\n",
    "        _ax[1].set_title(f'Precision-Recall curve (AUC = {_auc_pr:.3f})')\n",
    "    _ax[1].set_xlabel('Recall')\n",
    "    _ax[1].set_ylabel('Precision')\n",
    "    _ax[1].grid(True)\n",
    "\n",
    "    # Optimization of the layout of the elements\n",
    "    plt.tight_layout()\n",
    "    \n",
    "    # Saving the current figure to a file with the specified name\n",
    "    #my_save_fig(_model_name + '_roc_pr_plots')\n",
    "    \n",
    "    # Displaying a plot on the screen\n",
    "    plt.show()"
   ]
  },
  {
   "cell_type": "markdown",
   "metadata": {},
   "source": [
    "## Подготовка данных"
   ]
  },
  {
   "cell_type": "markdown",
   "metadata": {},
   "source": [
    "### Предподготовка."
   ]
  },
  {
   "cell_type": "markdown",
   "metadata": {},
   "source": [
    "#### Загрузка данных."
   ]
  },
  {
   "cell_type": "code",
   "execution_count": 10,
   "metadata": {},
   "outputs": [],
   "source": [
    "filename_dict = {'local': 'Churn.csv', \n",
    "                 'practicum': '/datasets/Churn.csv', \n",
    "                 'ya': 'https://code.s3.yandex.net/datasets/Churn.csv'}\n",
    "churn = my_read_csv(filename_dict, logfile='my_read_csv.log')"
   ]
  },
  {
   "cell_type": "markdown",
   "metadata": {},
   "source": [
    "#### Разделение исходных данных."
   ]
  },
  {
   "cell_type": "markdown",
   "metadata": {},
   "source": [
    "У нас нет отдельных тестовых данных. Сделаем их из имеющихся данных. При этом датасет нужно будет разделить в соотношении <s>90/60/90</s> 20/20/60. Исходя из вводной информации по проекту сразу делаем стратифицированные выборки."
   ]
  },
  {
   "cell_type": "code",
   "execution_count": 11,
   "metadata": {},
   "outputs": [],
   "source": [
    "sss = StratifiedShuffleSplit(n_splits=1, test_size=0.2, random_state=RANDOM_STATE)\n",
    "for trainval_index, test_index in sss.split(churn, churn['Exited']):\n",
    "    churn_strat_trainval_set = churn.loc[trainval_index].copy()\n",
    "    churn_strat_test_set = churn.loc[test_index].copy()"
   ]
  },
  {
   "cell_type": "markdown",
   "metadata": {},
   "source": [
    "Затем оставшиеся данные стратифицировано разделяем на тренировочную и валидационную выборки."
   ]
  },
  {
   "cell_type": "code",
   "execution_count": 12,
   "metadata": {},
   "outputs": [],
   "source": [
    "sss = StratifiedShuffleSplit(n_splits=1, test_size=0.25, random_state=RANDOM_STATE)\n",
    "for train_index, val_index in sss.split(churn_strat_trainval_set, churn_strat_trainval_set['Exited']):\n",
    "    churn_strat_train_set = churn.loc[train_index].copy()\n",
    "    churn_strat_val_set = churn.loc[val_index].copy()"
   ]
  },
  {
   "cell_type": "markdown",
   "metadata": {},
   "source": [
    "#### Проверка пропорциональности."
   ]
  },
  {
   "cell_type": "code",
   "execution_count": 13,
   "metadata": {
    "scrolled": true
   },
   "outputs": [
    {
     "name": "stdout",
     "output_type": "stream",
     "text": [
      "Доля тренировочной выборки: 0.60\n",
      "Доля валидационной выборки: 0.20\n",
      "Доля тестовой выборки: 0.20\n"
     ]
    }
   ],
   "source": [
    "print(f'Доля тренировочной выборки: {churn_strat_train_set.shape[0] / churn.shape[0]:.2f}')\n",
    "print(f'Доля валидационной выборки: {churn_strat_val_set.shape[0] / churn.shape[0]:.2f}')\n",
    "print(f'Доля тестовой выборки: {churn_strat_test_set.shape[0] / churn.shape[0]:.2f}')"
   ]
  },
  {
   "cell_type": "markdown",
   "metadata": {},
   "source": [
    "#### Проверка стратифицированности."
   ]
  },
  {
   "cell_type": "code",
   "execution_count": 14,
   "metadata": {
    "scrolled": true
   },
   "outputs": [
    {
     "name": "stdout",
     "output_type": "stream",
     "text": [
      "Тестовая выборка:\n",
      "0   0.796\n",
      "1   0.203\n",
      "Name: Exited, dtype: float64\n",
      "\n",
      "Валидационная выборка:\n",
      "0   0.787\n",
      "1   0.212\n",
      "Name: Exited, dtype: float64\n",
      "\n",
      "Тренировочная выборка:\n",
      "0   0.796\n",
      "1   0.204\n",
      "Name: Exited, dtype: float64\n",
      "\n",
      "Исходные данные:\n",
      "0   0.796\n",
      "1   0.204\n",
      "Name: Exited, dtype: float64\n"
     ]
    }
   ],
   "source": [
    "print(f'Тестовая выборка:\\n{churn_strat_test_set[\"Exited\"].value_counts() / len(churn_strat_test_set)}')\n",
    "print(f'\\nВалидационная выборка:\\n{churn_strat_val_set[\"Exited\"].value_counts() / len(churn_strat_val_set)}')\n",
    "print(f'\\nТренировочная выборка:\\n{churn_strat_train_set[\"Exited\"].value_counts() / len(churn_strat_train_set)}')\n",
    "print(f'\\nИсходные данные:\\n{churn[\"Exited\"].value_counts() / len(churn)}')"
   ]
  },
  {
   "cell_type": "markdown",
   "metadata": {},
   "source": [
    "#### Создание обучающих и валидационных выборок."
   ]
  },
  {
   "cell_type": "code",
   "execution_count": 15,
   "metadata": {},
   "outputs": [],
   "source": [
    "churn_features_train = churn_strat_train_set.drop(['Exited'], axis=1).reset_index(drop=True)\n",
    "churn_target_train = churn_strat_train_set['Exited'].reset_index(drop=True)\n",
    "churn_features_valid = churn_strat_val_set.drop(['Exited'], axis=1).reset_index(drop=True)\n",
    "churn_target_valid = churn_strat_val_set['Exited'].reset_index(drop=True)"
   ]
  },
  {
   "cell_type": "markdown",
   "metadata": {},
   "source": [
    "Рабочие выборки подготовлены. Тестовая выборка будет разделена позже. Можно приступать к делу."
   ]
  },
  {
   "cell_type": "markdown",
   "metadata": {},
   "source": [
    "### Анализ данных (на trainval выборке)."
   ]
  },
  {
   "cell_type": "markdown",
   "metadata": {},
   "source": [
    "#### Описание данных."
   ]
  },
  {
   "cell_type": "markdown",
   "metadata": {},
   "source": [
    "Признаки:\n",
    "- `RowNumber` — индекс строки в данных\n",
    "- `CustomerId` — уникальный идентификатор клиента\n",
    "- `Surname` — фамилия\n",
    "- `CreditScore` — кредитный рейтинг\n",
    "- `Geography` — страна проживания\n",
    "- `Gender` — пол\n",
    "- `Age` — возраст\n",
    "- `Tenure` — сколько лет человек является клиентом банка\n",
    "- `Balance` — баланс на счёте\n",
    "- `NumOfProducts` — количество продуктов банка, используемых клиентом\n",
    "- `HasCrCard` — наличие кредитной карты\n",
    "- `IsActiveMember` — активность клиента\n",
    "- `EstimatedSalary` — предполагаемая зарплата"
   ]
  },
  {
   "cell_type": "markdown",
   "metadata": {},
   "source": [
    "#### Предварительное исследование данных."
   ]
  },
  {
   "cell_type": "markdown",
   "metadata": {},
   "source": [
    "##### Внешний вид данных."
   ]
  },
  {
   "cell_type": "code",
   "execution_count": 16,
   "metadata": {},
   "outputs": [
    {
     "data": {
      "text/html": [
       "<div>\n",
       "<style scoped>\n",
       "    .dataframe tbody tr th:only-of-type {\n",
       "        vertical-align: middle;\n",
       "    }\n",
       "\n",
       "    .dataframe tbody tr th {\n",
       "        vertical-align: top;\n",
       "    }\n",
       "\n",
       "    .dataframe thead th {\n",
       "        text-align: right;\n",
       "    }\n",
       "</style>\n",
       "<table border=\"1\" class=\"dataframe\">\n",
       "  <thead>\n",
       "    <tr style=\"text-align: right;\">\n",
       "      <th></th>\n",
       "      <th>RowNumber</th>\n",
       "      <th>CustomerId</th>\n",
       "      <th>Surname</th>\n",
       "      <th>CreditScore</th>\n",
       "      <th>Geography</th>\n",
       "      <th>Gender</th>\n",
       "      <th>Age</th>\n",
       "      <th>Tenure</th>\n",
       "      <th>Balance</th>\n",
       "      <th>NumOfProducts</th>\n",
       "      <th>HasCrCard</th>\n",
       "      <th>IsActiveMember</th>\n",
       "      <th>EstimatedSalary</th>\n",
       "      <th>Exited</th>\n",
       "    </tr>\n",
       "  </thead>\n",
       "  <tbody>\n",
       "    <tr>\n",
       "      <th>2151</th>\n",
       "      <td>2152</td>\n",
       "      <td>15588614</td>\n",
       "      <td>Walton</td>\n",
       "      <td>753</td>\n",
       "      <td>France</td>\n",
       "      <td>Male</td>\n",
       "      <td>57</td>\n",
       "      <td>7.000</td>\n",
       "      <td>0.000</td>\n",
       "      <td>1</td>\n",
       "      <td>1</td>\n",
       "      <td>0</td>\n",
       "      <td>159,475.080</td>\n",
       "      <td>1</td>\n",
       "    </tr>\n",
       "    <tr>\n",
       "      <th>8392</th>\n",
       "      <td>8393</td>\n",
       "      <td>15641158</td>\n",
       "      <td>Belcher</td>\n",
       "      <td>739</td>\n",
       "      <td>Germany</td>\n",
       "      <td>Male</td>\n",
       "      <td>32</td>\n",
       "      <td>3.000</td>\n",
       "      <td>102,128.270</td>\n",
       "      <td>1</td>\n",
       "      <td>1</td>\n",
       "      <td>0</td>\n",
       "      <td>63,981.370</td>\n",
       "      <td>1</td>\n",
       "    </tr>\n",
       "    <tr>\n",
       "      <th>5006</th>\n",
       "      <td>5007</td>\n",
       "      <td>15750014</td>\n",
       "      <td>Chikere</td>\n",
       "      <td>755</td>\n",
       "      <td>Germany</td>\n",
       "      <td>Female</td>\n",
       "      <td>37</td>\n",
       "      <td>0.000</td>\n",
       "      <td>113,865.230</td>\n",
       "      <td>2</td>\n",
       "      <td>1</td>\n",
       "      <td>1</td>\n",
       "      <td>117,396.250</td>\n",
       "      <td>0</td>\n",
       "    </tr>\n",
       "  </tbody>\n",
       "</table>\n",
       "</div>"
      ],
      "text/plain": [
       "      RowNumber  CustomerId  Surname  CreditScore Geography  Gender  Age  \\\n",
       "2151       2152    15588614   Walton          753    France    Male   57   \n",
       "8392       8393    15641158  Belcher          739   Germany    Male   32   \n",
       "5006       5007    15750014  Chikere          755   Germany  Female   37   \n",
       "\n",
       "      Tenure     Balance  NumOfProducts  HasCrCard  IsActiveMember  \\\n",
       "2151   7.000       0.000              1          1               0   \n",
       "8392   3.000 102,128.270              1          1               0   \n",
       "5006   0.000 113,865.230              2          1               1   \n",
       "\n",
       "      EstimatedSalary  Exited  \n",
       "2151      159,475.080       1  \n",
       "8392       63,981.370       1  \n",
       "5006      117,396.250       0  "
      ]
     },
     "execution_count": 16,
     "metadata": {},
     "output_type": "execute_result"
    }
   ],
   "source": [
    "churn_strat_trainval_set.iloc[:3]"
   ]
  },
  {
   "cell_type": "markdown",
   "metadata": {},
   "source": [
    "Индексацию лучше привести к нижнему регистру. `RowNumber`, `Surname`, вероятно, можно легко удалить. `CustomerId` пригодится потом для идентификации клиентов. `Geography` и `Gender` трансформируем методом `onehot-dense`, чтобы не упражняться с разрежённой матрицей признаков."
   ]
  },
  {
   "cell_type": "markdown",
   "metadata": {},
   "source": [
    "##### Информация о данных и пропусках."
   ]
  },
  {
   "cell_type": "code",
   "execution_count": 17,
   "metadata": {
    "scrolled": false
   },
   "outputs": [
    {
     "name": "stdout",
     "output_type": "stream",
     "text": [
      "<class 'pandas.core.frame.DataFrame'>\n",
      "Int64Index: 8000 entries, 2151 to 6206\n",
      "Data columns (total 14 columns):\n",
      " #   Column           Non-Null Count  Dtype  \n",
      "---  ------           --------------  -----  \n",
      " 0   RowNumber        8000 non-null   int32  \n",
      " 1   CustomerId       8000 non-null   int32  \n",
      " 2   Surname          8000 non-null   object \n",
      " 3   CreditScore      8000 non-null   int32  \n",
      " 4   Geography        8000 non-null   object \n",
      " 5   Gender           8000 non-null   object \n",
      " 6   Age              8000 non-null   int32  \n",
      " 7   Tenure           7271 non-null   float64\n",
      " 8   Balance          8000 non-null   float64\n",
      " 9   NumOfProducts    8000 non-null   int32  \n",
      " 10  HasCrCard        8000 non-null   int32  \n",
      " 11  IsActiveMember   8000 non-null   int32  \n",
      " 12  EstimatedSalary  8000 non-null   float64\n",
      " 13  Exited           8000 non-null   int32  \n",
      "dtypes: float64(3), int32(8), object(3)\n",
      "memory usage: 687.5+ KB\n"
     ]
    }
   ],
   "source": [
    "churn_strat_trainval_set.info()"
   ]
  },
  {
   "cell_type": "code",
   "execution_count": 18,
   "metadata": {},
   "outputs": [
    {
     "data": {
      "text/plain": [
       "Tenure            9.112\n",
       "RowNumber         0.000\n",
       "CustomerId        0.000\n",
       "Surname           0.000\n",
       "CreditScore       0.000\n",
       "Geography         0.000\n",
       "Gender            0.000\n",
       "Age               0.000\n",
       "Balance           0.000\n",
       "NumOfProducts     0.000\n",
       "HasCrCard         0.000\n",
       "IsActiveMember    0.000\n",
       "EstimatedSalary   0.000\n",
       "Exited            0.000\n",
       "dtype: float64"
      ]
     },
     "execution_count": 18,
     "metadata": {},
     "output_type": "execute_result"
    }
   ],
   "source": [
    "churn_strat_trainval_set.isna().mean().sort_values(ascending=False)*100"
   ]
  },
  {
   "cell_type": "markdown",
   "metadata": {},
   "source": [
    "Предстоит обрабатывать пропуски в `Tenure`. Удалить строки в данной задаче невозможно т.к. это означает исключение почти 10% клиентов из анализа. Заменим пропуски медианной стратегией IterativeImputer."
   ]
  },
  {
   "cell_type": "markdown",
   "metadata": {},
   "source": [
    "##### Корреляции в данных."
   ]
  },
  {
   "cell_type": "code",
   "execution_count": 19,
   "metadata": {},
   "outputs": [
    {
     "data": {
      "image/png": "[encoded data removed]",
      "text/plain": [
       "<Figure size 1000x500 with 2 Axes>"
      ]
     },
     "metadata": {},
     "output_type": "display_data"
    }
   ],
   "source": [
    "cmap = ListedColormap(sns.color_palette('cividis', n_colors=256).as_hex()) if CIVIDIS else 'Blues'\n",
    "fig, ax = plt.subplots(figsize=(10, 5))\n",
    "fig.suptitle('Матрица корреляций между признакамии и классом')\n",
    "sns.heatmap(churn_strat_trainval_set.corr(), \n",
    "            cmap=cmap , \n",
    "            annot=True, \n",
    "            fmt='.3f', \n",
    "            ax=ax, \n",
    "            vmin=0 if CIVIDIS else None, \n",
    "            vmax=1)\n",
    "plt.tight_layout()\n",
    "#my_save_fig('attributes_correlation_plots')\n",
    "plt.show()"
   ]
  },
  {
   "cell_type": "markdown",
   "metadata": {},
   "source": [
    "Сразу видно - чем больше играетесь в банковские приложеньица, тем меньше остаётся денег на балансе. Но тут есть и интересные данные. `Age` и `Balance` очень слабо ($0 - 0.3$) коррелируют с `Exited`. Возможно ли из этих переменных построить новую с большей корреляцией? Посмотрим корреляцию между `Age` и `Balance` - $0.031$. Построить такую переменную нельзя, но..."
   ]
  },
  {
   "cell_type": "markdown",
   "metadata": {},
   "source": [
    ">Если две переменные умеренно и независимо коррелируют с третьей переменной, это означает, что они оба связаны с этой переменной, но между ними нет сильной связи. В таком случае нельзя просто взять эти две переменные и сделать из них новую с более высокой корреляцией.<br>\n",
    ">Однако, возможно, существует какая-то функция, которая может объединить эти две переменные таким образом, чтобы получить переменную с более высокой корреляцией с третьей переменной. Эта функция может быть, например, линейной комбинацией этих двух переменных.<br>\n",
    ">Для того, чтобы определить, существует ли такая функция, можно провести анализ главных компонент (PCA). В рамках PCA можно найти линейную комбинацию исходных переменных, которая объяснит наибольшую часть дисперсии в данных. Если новая переменная, полученная в результате PCA, будет иметь более высокую корреляцию с третьей переменной, чем исходные переменные, то можно сказать, что такая функция существует.<br>\n",
    ">Но важно отметить, что создание новой переменной может изменить ее интерпретацию и потребует дополнительного объяснения. Кроме того, корреляция не всегда означает причинно-следственную связь, поэтому необходимо учитывать контекст и проводить более глубокий анализ данных, чтобы сделать достоверные выводы."
   ]
  },
  {
   "cell_type": "markdown",
   "metadata": {},
   "source": [
    "Проверим это:"
   ]
  },
  {
   "cell_type": "code",
   "execution_count": 20,
   "metadata": {},
   "outputs": [
    {
     "name": "stdout",
     "output_type": "stream",
     "text": [
      "Корреляция с 'Exited' новой переменной: -0.017\n"
     ]
    }
   ],
   "source": [
    "pca = PCA(n_components=1)\n",
    "churn_age_balance_to_pca = churn_strat_trainval_set[['Balance', 'Age', 'IsActiveMember']]\n",
    "churn_age_balance_pca = pca.fit_transform(churn_age_balance_to_pca)\n",
    "print(f'Корреляция с \\'Exited\\' новой переменной: \\\n",
    "{churn_strat_trainval_set[\"Exited\"].corr(pd.DataFrame(churn_age_balance_pca)[0]):.3f}')"
   ]
  },
  {
   "cell_type": "markdown",
   "metadata": {},
   "source": [
    "Как и ожидалось - ничего не вышло."
   ]
  },
  {
   "cell_type": "markdown",
   "metadata": {},
   "source": [
    "##### Спектр данных."
   ]
  },
  {
   "cell_type": "code",
   "execution_count": 21,
   "metadata": {
    "scrolled": false
   },
   "outputs": [
    {
     "data": {
      "image/png": "[encoded data removed]",
      "text/plain": [
       "<Figure size 1100x1100 with 12 Axes>"
      ]
     },
     "metadata": {},
     "output_type": "display_data"
    }
   ],
   "source": [
    "fig, axes = plt.subplots(nrows=4, ncols=3, figsize=(11, 11))\n",
    "fig.suptitle('Гистограммы распределения признаков и классов', y=1)\n",
    "churn_strat_trainval_set_num = churn_strat_trainval_set.drop(columns=['Surname', 'Geography', 'Gender'], axis=1)\n",
    "for i, ax in enumerate(axes.flat):\n",
    "    if i >= len(churn_strat_trainval_set_num.columns):\n",
    "        ax.set_title(f'intentionally left blank')\n",
    "    else:\n",
    "        ax.hist(churn_strat_trainval_set_num.iloc[:, i], \n",
    "                bins=my_sturges(2*churn_strat_trainval_set_num.iloc[:, i].nunique()) \n",
    "                         if churn_strat_trainval_set_num.iloc[:, i].nunique() > 50 \n",
    "                         else churn_strat_trainval_set_num.iloc[:, i].nunique(), \n",
    "                color='SteelBlue')\n",
    "        ax.set_title(f'Гистограмма \\'{churn_strat_trainval_set_num.columns[i]}\\'')\n",
    "        ax.set_xlabel('Значение признака')\n",
    "        ax.set_ylabel('Частота появления')\n",
    "        ax.grid(True)\n",
    "plt.tight_layout()\n",
    "#my_save_fig('attribute_histogram_plots')\n",
    "plt.show()"
   ]
  },
  {
   "cell_type": "markdown",
   "metadata": {},
   "source": [
    "Видны выбросы и существенная разница величин признака в пределах гистограммы - неравномерность масштабов. Следовательно, для масштабирования применим StandardScaler. Ну и, само собой, дисбаланс класса `Exited`, что было очевидно из постановки задачи. Следовательно для оценок моделей следует применять оценку F1. "
   ]
  },
  {
   "cell_type": "markdown",
   "metadata": {},
   "source": [
    "##### Дубликаты в данных."
   ]
  },
  {
   "cell_type": "code",
   "execution_count": 22,
   "metadata": {
    "scrolled": true
   },
   "outputs": [
    {
     "name": "stdout",
     "output_type": "stream",
     "text": [
      "Количество полных дубликатов в данных: 0\n",
      "Количество неявных дубликатов в данных: 0\n"
     ]
    }
   ],
   "source": [
    "print('Количество полных дубликатов в данных:', churn_strat_trainval_set.duplicated().sum())\n",
    "print('Количество неявных дубликатов в данных:', churn_strat_trainval_set.duplicated(subset='CustomerId', keep=False).sum())"
   ]
  },
  {
   "cell_type": "markdown",
   "metadata": {},
   "source": [
    "Дубликатов нет."
   ]
  },
  {
   "cell_type": "markdown",
   "metadata": {},
   "source": [
    "#### Выводы из анализа данных."
   ]
  },
  {
   "cell_type": "markdown",
   "metadata": {},
   "source": [
    "1. Трансформация данных:\n",
    "   - Для удобства анализа можно привести индексы к нижнему регистру. Однако, следует учитывать, что это может негативно сказаться на читаемости данных, так как идентификаторы, такие как `CustomerId`, станут менее информативными.\n",
    "   - Поле `RowNumber` и фамилии клиентов (`Surname`) не содержат значимой информации для анализа и могут быть удалены из набора данных.\n",
    "   - Поле `CustomerId` является уникальным идентификатором клиента, и его следует сохранить для последующей идентификации клиентов после проведения всех обработок данных.\n",
    "   - Категориальные признаки, такие как `Geography` и `Gender`, можно трансформировать с помощью метода onehot-dense для удобства дальнейшего анализа.\n",
    "\n",
    "2. Обработка пропущенных значений:\n",
    "   - Признак `Tenure` содержит пропущенные значения, которые могут быть заменены нулями с использованием метода SimpleImputer. Однако, в разделе \"Исследование задачи\" следует более подробно рассмотреть этот признак и выбрать более подходящий метод заполнения пропусков.\n",
    "\n",
    "3. Масштабирование данных:\n",
    "   - Для обеспечения сопоставимости и корректного взаимодействия признаков рекомендуется использовать метод масштабирования StandardScaler. Это позволит привести признаки к одному и тому же диапазону значений.\n",
    "\n",
    "4. Оценка моделей:\n",
    "   - Для оценки производительности моделей рекомендуется использовать метрику F1. Эта метрика является более информативной при работе с задачами классификации, особенно если классы несбалансированы."
   ]
  },
  {
   "cell_type": "markdown",
   "metadata": {},
   "source": [
    "### Трансформация данных."
   ]
  },
  {
   "cell_type": "markdown",
   "metadata": {},
   "source": [
    "Для лучшей наглядности выполним задачу с помощью пайплайна трансформеров. Тонкая настройка fill_value будет сделана уже на следующей странице."
   ]
  },
  {
   "cell_type": "code",
   "execution_count": 23,
   "metadata": {},
   "outputs": [],
   "source": [
    "def my_drop_columns(X, columns_to_drop):\n",
    "    X.drop(columns_to_drop, axis=1, inplace=True)\n",
    "    return X\n",
    "\n",
    "num = ['Tenure']\n",
    "cat = ['Geography', 'Gender']\n",
    "drop = ['RowNumber', 'CustomerId', 'Surname']\n",
    "\n",
    "trans_pipeline = ColumnTransformer([\n",
    "        ('drop', FunctionTransformer(my_drop_columns, kw_args={'columns_to_drop': drop}), drop),\n",
    "        ('num', Pipeline([\n",
    "                    ('imp', SimpleImputer(strategy='constant', missing_values=np.nan, fill_value=0)),\n",
    "                    ('scale', StandardScaler())\n",
    "                ]), num), \n",
    "        ('cat', Pipeline([\n",
    "                    ('onehot', OneHotEncoder(sparse=False, drop='first')),\n",
    "                    ('scale', StandardScaler())\n",
    "                ]), cat)\n",
    "        ], remainder=StandardScaler())"
   ]
  },
  {
   "cell_type": "markdown",
   "metadata": {},
   "source": [
    "### Данные для обучения и валидации."
   ]
  },
  {
   "cell_type": "code",
   "execution_count": 24,
   "metadata": {},
   "outputs": [],
   "source": [
    "X_train = trans_pipeline.fit_transform(churn_features_train).copy()\n",
    "y_train = churn_target_train.values.copy()\n",
    "\n",
    "X_valid = trans_pipeline.transform(churn_features_valid).copy()\n",
    "y_valid = churn_target_valid.values.copy()"
   ]
  },
  {
   "cell_type": "markdown",
   "metadata": {},
   "source": [
    "Если по какой-либо причине нам понадобится DataFrame подготовленных данных, то его несложно сделать. Например:"
   ]
  },
  {
   "cell_type": "code",
   "execution_count": 25,
   "metadata": {
    "scrolled": false
   },
   "outputs": [
    {
     "data": {
      "text/html": [
       "<div>\n",
       "<style scoped>\n",
       "    .dataframe tbody tr th:only-of-type {\n",
       "        vertical-align: middle;\n",
       "    }\n",
       "\n",
       "    .dataframe tbody tr th {\n",
       "        vertical-align: top;\n",
       "    }\n",
       "\n",
       "    .dataframe thead th {\n",
       "        text-align: right;\n",
       "    }\n",
       "</style>\n",
       "<table border=\"1\" class=\"dataframe\">\n",
       "  <thead>\n",
       "    <tr style=\"text-align: right;\">\n",
       "      <th></th>\n",
       "      <th>tenure</th>\n",
       "      <th>geography1</th>\n",
       "      <th>geography2</th>\n",
       "      <th>gender</th>\n",
       "      <th>creditscore</th>\n",
       "      <th>age</th>\n",
       "      <th>balance</th>\n",
       "      <th>numofproducts</th>\n",
       "      <th>hascrcard</th>\n",
       "      <th>isactivemember</th>\n",
       "      <th>estimatedsalary</th>\n",
       "    </tr>\n",
       "  </thead>\n",
       "  <tbody>\n",
       "    <tr>\n",
       "      <th>0</th>\n",
       "      <td>1.108</td>\n",
       "      <td>1.727</td>\n",
       "      <td>-0.570</td>\n",
       "      <td>-1.084</td>\n",
       "      <td>0.926</td>\n",
       "      <td>-0.193</td>\n",
       "      <td>1.521</td>\n",
       "      <td>0.795</td>\n",
       "      <td>-1.542</td>\n",
       "      <td>-1.032</td>\n",
       "      <td>0.168</td>\n",
       "    </tr>\n",
       "    <tr>\n",
       "      <th>1</th>\n",
       "      <td>-1.144</td>\n",
       "      <td>1.727</td>\n",
       "      <td>-0.570</td>\n",
       "      <td>0.923</td>\n",
       "      <td>-1.708</td>\n",
       "      <td>-0.193</td>\n",
       "      <td>0.407</td>\n",
       "      <td>-0.922</td>\n",
       "      <td>-1.542</td>\n",
       "      <td>-1.032</td>\n",
       "      <td>-0.853</td>\n",
       "    </tr>\n",
       "    <tr>\n",
       "      <th>2</th>\n",
       "      <td>0.143</td>\n",
       "      <td>-0.579</td>\n",
       "      <td>1.753</td>\n",
       "      <td>0.923</td>\n",
       "      <td>-0.437</td>\n",
       "      <td>-0.193</td>\n",
       "      <td>0.854</td>\n",
       "      <td>-0.922</td>\n",
       "      <td>0.648</td>\n",
       "      <td>0.969</td>\n",
       "      <td>-1.281</td>\n",
       "    </tr>\n",
       "  </tbody>\n",
       "</table>\n",
       "</div>"
      ],
      "text/plain": [
       "   tenure  geography1  geography2  gender  creditscore    age  balance  \\\n",
       "0   1.108       1.727      -0.570  -1.084        0.926 -0.193    1.521   \n",
       "1  -1.144       1.727      -0.570   0.923       -1.708 -0.193    0.407   \n",
       "2   0.143      -0.579       1.753   0.923       -0.437 -0.193    0.854   \n",
       "\n",
       "   numofproducts  hascrcard  isactivemember  estimatedsalary  \n",
       "0          0.795     -1.542          -1.032            0.168  \n",
       "1         -0.922     -1.542          -1.032           -0.853  \n",
       "2         -0.922      0.648           0.969           -1.281  "
      ]
     },
     "execution_count": 25,
     "metadata": {},
     "output_type": "execute_result"
    }
   ],
   "source": [
    "columns_prepared = ['Tenure', 'Geography1', 'Geography2', 'Gender',\n",
    "                    'CreditScore', 'Age', 'Balance', 'NumOfProducts', \n",
    "                    'HasCrCard', 'IsActiveMember', 'EstimatedSalary']\n",
    "churn_features_train_prepared = pd.DataFrame(X_train, columns=columns_prepared)\n",
    "churn_features_train_prepared.columns = churn_features_train_prepared.columns.str.lower()\n",
    "churn_features_train_prepared.iloc[:3]"
   ]
  },
  {
   "cell_type": "markdown",
   "metadata": {},
   "source": [
    "Найти здесь нужного клиента очень просто: т.к. индексация не изменялась то это легко сделать, добавив признак CustomerId из churn_features_train."
   ]
  },
  {
   "cell_type": "markdown",
   "metadata": {},
   "source": [
    "## Исследование задачи."
   ]
  },
  {
   "cell_type": "markdown",
   "metadata": {},
   "source": [
    "Собственно задача состоит в следующем: нужно спрогнозировать, уйдёт клиент из банка в ближайшее время или нет. С этой целью нам предоставлены исторические данные о поведении клиентов и расторжении договоров с банком. Что требуется: построить модель с предельно большим значением F1-меры. Нужно довести эту метрику до 0.59 и проверить её величину на тестовой выборке, дополнительно каждый раз сравнивая с AUC-ROC."
   ]
  },
  {
   "cell_type": "markdown",
   "metadata": {},
   "source": [
    "### Исходные данные."
   ]
  },
  {
   "cell_type": "markdown",
   "metadata": {},
   "source": [
    "В работе над исходными данными остался один момент, на который стоит обратить внимание. При обработке пропусков в признаке \"Tenure\" мы заполнили np.nan нулями. Это ничем не обоснованное действие должно быть чем-то подтверждено или же, наоборот, опровергнуто. Заполним этот существенный пробел в обработке данных дополнив наш пайплайн обработки эстиматором с последующей оценкой наиболее эффективной замены np.nan."
   ]
  },
  {
   "cell_type": "code",
   "execution_count": 26,
   "metadata": {
    "scrolled": true
   },
   "outputs": [
    {
     "name": "stdout",
     "output_type": "stream",
     "text": [
      "Результаты GridSearchCV для full_pipeline_with_predictor загружены из файла\n",
      "Лучшее число для заполнения пропусков в 'Tenure': 8.0\n"
     ]
    }
   ],
   "source": [
    "if exists('grid_search_tenure_results.joblib'):\n",
    "    grid_search_tenure = load('grid_search_tenure_results.joblib')\n",
    "    print('Результаты GridSearchCV для full_pipeline_with_predictor загружены из файла')\n",
    "else:\n",
    "    full_pipeline_with_predictor = Pipeline([('preprocessing', trans_pipeline),\n",
    "                                             ('rfc', RandomForestClassifier(random_state=RANDOM_STATE))])\n",
    "\n",
    "    param_grid = {'preprocessing__num__imp__fill_value': churn_features_train['Tenure'].dropna().unique()}\n",
    "\n",
    "    grid_search_tenure = GridSearchCV(full_pipeline_with_predictor, param_grid=param_grid, scoring='f1', n_jobs=-1)\n",
    "    grid_search_tenure.fit(churn_features_train, churn_target_train)\n",
    "\n",
    "    dump(grid_search_tenure, 'grid_search_tenure_results.joblib')\n",
    "    print('Результаты GridSearchCV для full_pipeline_with_predictor сохранены в файле')\n",
    "    \n",
    "print(f'Лучшее число для заполнения пропусков в \\'Tenure\\': {grid_search_tenure.best_params_.get(\"preprocessing__num__imp__fill_value\")}')"
   ]
  },
  {
   "cell_type": "markdown",
   "metadata": {},
   "source": [
    "Обновим наш пайплайн трансформер и заново сформируем выборки основываясь на уточнённом значении fill_value."
   ]
  },
  {
   "cell_type": "code",
   "execution_count": 27,
   "metadata": {
    "scrolled": false
   },
   "outputs": [
    {
     "data": {
      "text/html": [
       "<style>#sk-container-id-1 {color: black;background-color: white;}#sk-container-id-1 pre{padding: 0;}#sk-container-id-1 div.sk-toggleable {background-color: white;}#sk-container-id-1 label.sk-toggleable__label {cursor: pointer;display: block;width: 100%;margin-bottom: 0;padding: 0.3em;box-sizing: border-box;text-align: center;}#sk-container-id-1 label.sk-toggleable__label-arrow:before {content: \"▸\";float: left;margin-right: 0.25em;color: #696969;}#sk-container-id-1 label.sk-toggleable__label-arrow:hover:before {color: black;}#sk-container-id-1 div.sk-estimator:hover label.sk-toggleable__label-arrow:before {color: black;}#sk-container-id-1 div.sk-toggleable__content {max-height: 0;max-width: 0;overflow: hidden;text-align: left;background-color: #f0f8ff;}#sk-container-id-1 div.sk-toggleable__content pre {margin: 0.2em;color: black;border-radius: 0.25em;background-color: #f0f8ff;}#sk-container-id-1 input.sk-toggleable__control:checked~div.sk-toggleable__content {max-height: 200px;max-width: 100%;overflow: auto;}#sk-container-id-1 input.sk-toggleable__control:checked~label.sk-toggleable__label-arrow:before {content: \"▾\";}#sk-container-id-1 div.sk-estimator input.sk-toggleable__control:checked~label.sk-toggleable__label {background-color: #d4ebff;}#sk-container-id-1 div.sk-label input.sk-toggleable__control:checked~label.sk-toggleable__label {background-color: #d4ebff;}#sk-container-id-1 input.sk-hidden--visually {border: 0;clip: rect(1px 1px 1px 1px);clip: rect(1px, 1px, 1px, 1px);height: 1px;margin: -1px;overflow: hidden;padding: 0;position: absolute;width: 1px;}#sk-container-id-1 div.sk-estimator {font-family: monospace;background-color: #f0f8ff;border: 1px dotted black;border-radius: 0.25em;box-sizing: border-box;margin-bottom: 0.5em;}#sk-container-id-1 div.sk-estimator:hover {background-color: #d4ebff;}#sk-container-id-1 div.sk-parallel-item::after {content: \"\";width: 100%;border-bottom: 1px solid gray;flex-grow: 1;}#sk-container-id-1 div.sk-label:hover label.sk-toggleable__label {background-color: #d4ebff;}#sk-container-id-1 div.sk-serial::before {content: \"\";position: absolute;border-left: 1px solid gray;box-sizing: border-box;top: 0;bottom: 0;left: 50%;z-index: 0;}#sk-container-id-1 div.sk-serial {display: flex;flex-direction: column;align-items: center;background-color: white;padding-right: 0.2em;padding-left: 0.2em;position: relative;}#sk-container-id-1 div.sk-item {position: relative;z-index: 1;}#sk-container-id-1 div.sk-parallel {display: flex;align-items: stretch;justify-content: center;background-color: white;position: relative;}#sk-container-id-1 div.sk-item::before, #sk-container-id-1 div.sk-parallel-item::before {content: \"\";position: absolute;border-left: 1px solid gray;box-sizing: border-box;top: 0;bottom: 0;left: 50%;z-index: -1;}#sk-container-id-1 div.sk-parallel-item {display: flex;flex-direction: column;z-index: 1;position: relative;background-color: white;}#sk-container-id-1 div.sk-parallel-item:first-child::after {align-self: flex-end;width: 50%;}#sk-container-id-1 div.sk-parallel-item:last-child::after {align-self: flex-start;width: 50%;}#sk-container-id-1 div.sk-parallel-item:only-child::after {width: 0;}#sk-container-id-1 div.sk-dashed-wrapped {border: 1px dashed gray;margin: 0 0.4em 0.5em 0.4em;box-sizing: border-box;padding-bottom: 0.4em;background-color: white;}#sk-container-id-1 div.sk-label label {font-family: monospace;font-weight: bold;display: inline-block;line-height: 1.2em;}#sk-container-id-1 div.sk-label-container {text-align: center;}#sk-container-id-1 div.sk-container {/* jupyter's `normalize.less` sets `[hidden] { display: none; }` but bootstrap.min.css set `[hidden] { display: none !important; }` so we also need the `!important` here to be able to override the default hidden behavior on the sphinx rendered scikit-learn.org. See: https://github.com/scikit-learn/scikit-learn/issues/21755 */display: inline-block !important;position: relative;}#sk-container-id-1 div.sk-text-repr-fallback {display: none;}</style><div id=\"sk-container-id-1\" class=\"sk-top-container\"><div class=\"sk-text-repr-fallback\"><pre>ColumnTransformer(remainder=StandardScaler(),\n",
       "                  transformers=[(&#x27;drop&#x27;,\n",
       "                                 FunctionTransformer(func=&lt;function my_drop_columns at 0x000001EB0D168A60&gt;,\n",
       "                                                     kw_args={&#x27;columns_to_drop&#x27;: [&#x27;RowNumber&#x27;,\n",
       "                                                                                  &#x27;CustomerId&#x27;,\n",
       "                                                                                  &#x27;Surname&#x27;]}),\n",
       "                                 [&#x27;RowNumber&#x27;, &#x27;CustomerId&#x27;, &#x27;Surname&#x27;]),\n",
       "                                (&#x27;num&#x27;,\n",
       "                                 Pipeline(steps=[(&#x27;imp&#x27;,\n",
       "                                                  SimpleImputer(fill_value=8.0,\n",
       "                                                                strategy=&#x27;constant&#x27;)),\n",
       "                                                 (&#x27;scale&#x27;, StandardScaler())]),\n",
       "                                 [&#x27;Tenure&#x27;]),\n",
       "                                (&#x27;cat&#x27;,\n",
       "                                 Pipeline(steps=[(&#x27;onehot&#x27;,\n",
       "                                                  OneHotEncoder(drop=&#x27;first&#x27;,\n",
       "                                                                sparse=False)),\n",
       "                                                 (&#x27;scale&#x27;, StandardScaler())]),\n",
       "                                 [&#x27;Geography&#x27;, &#x27;Gender&#x27;])])</pre><b>In a Jupyter environment, please rerun this cell to show the HTML representation or trust the notebook. <br />On GitHub, the HTML representation is unable to render, please try loading this page with nbviewer.org.</b></div><div class=\"sk-container\" hidden><div class=\"sk-item sk-dashed-wrapped\"><div class=\"sk-label-container\"><div class=\"sk-label sk-toggleable\"><input class=\"sk-toggleable__control sk-hidden--visually\" id=\"sk-estimator-id-1\" type=\"checkbox\" ><label for=\"sk-estimator-id-1\" class=\"sk-toggleable__label sk-toggleable__label-arrow\">ColumnTransformer</label><div class=\"sk-toggleable__content\"><pre>ColumnTransformer(remainder=StandardScaler(),\n",
       "                  transformers=[(&#x27;drop&#x27;,\n",
       "                                 FunctionTransformer(func=&lt;function my_drop_columns at 0x000001EB0D168A60&gt;,\n",
       "                                                     kw_args={&#x27;columns_to_drop&#x27;: [&#x27;RowNumber&#x27;,\n",
       "                                                                                  &#x27;CustomerId&#x27;,\n",
       "                                                                                  &#x27;Surname&#x27;]}),\n",
       "                                 [&#x27;RowNumber&#x27;, &#x27;CustomerId&#x27;, &#x27;Surname&#x27;]),\n",
       "                                (&#x27;num&#x27;,\n",
       "                                 Pipeline(steps=[(&#x27;imp&#x27;,\n",
       "                                                  SimpleImputer(fill_value=8.0,\n",
       "                                                                strategy=&#x27;constant&#x27;)),\n",
       "                                                 (&#x27;scale&#x27;, StandardScaler())]),\n",
       "                                 [&#x27;Tenure&#x27;]),\n",
       "                                (&#x27;cat&#x27;,\n",
       "                                 Pipeline(steps=[(&#x27;onehot&#x27;,\n",
       "                                                  OneHotEncoder(drop=&#x27;first&#x27;,\n",
       "                                                                sparse=False)),\n",
       "                                                 (&#x27;scale&#x27;, StandardScaler())]),\n",
       "                                 [&#x27;Geography&#x27;, &#x27;Gender&#x27;])])</pre></div></div></div><div class=\"sk-parallel\"><div class=\"sk-parallel-item\"><div class=\"sk-item\"><div class=\"sk-label-container\"><div class=\"sk-label sk-toggleable\"><input class=\"sk-toggleable__control sk-hidden--visually\" id=\"sk-estimator-id-2\" type=\"checkbox\" ><label for=\"sk-estimator-id-2\" class=\"sk-toggleable__label sk-toggleable__label-arrow\">drop</label><div class=\"sk-toggleable__content\"><pre>[&#x27;RowNumber&#x27;, &#x27;CustomerId&#x27;, &#x27;Surname&#x27;]</pre></div></div></div><div class=\"sk-serial\"><div class=\"sk-item\"><div class=\"sk-estimator sk-toggleable\"><input class=\"sk-toggleable__control sk-hidden--visually\" id=\"sk-estimator-id-3\" type=\"checkbox\" ><label for=\"sk-estimator-id-3\" class=\"sk-toggleable__label sk-toggleable__label-arrow\">FunctionTransformer</label><div class=\"sk-toggleable__content\"><pre>FunctionTransformer(func=&lt;function my_drop_columns at 0x000001EB0D168A60&gt;,\n",
       "                    kw_args={&#x27;columns_to_drop&#x27;: [&#x27;RowNumber&#x27;, &#x27;CustomerId&#x27;,\n",
       "                                                 &#x27;Surname&#x27;]})</pre></div></div></div></div></div></div><div class=\"sk-parallel-item\"><div class=\"sk-item\"><div class=\"sk-label-container\"><div class=\"sk-label sk-toggleable\"><input class=\"sk-toggleable__control sk-hidden--visually\" id=\"sk-estimator-id-4\" type=\"checkbox\" ><label for=\"sk-estimator-id-4\" class=\"sk-toggleable__label sk-toggleable__label-arrow\">num</label><div class=\"sk-toggleable__content\"><pre>[&#x27;Tenure&#x27;]</pre></div></div></div><div class=\"sk-serial\"><div class=\"sk-item\"><div class=\"sk-serial\"><div class=\"sk-item\"><div class=\"sk-estimator sk-toggleable\"><input class=\"sk-toggleable__control sk-hidden--visually\" id=\"sk-estimator-id-5\" type=\"checkbox\" ><label for=\"sk-estimator-id-5\" class=\"sk-toggleable__label sk-toggleable__label-arrow\">SimpleImputer</label><div class=\"sk-toggleable__content\"><pre>SimpleImputer(fill_value=8.0, strategy=&#x27;constant&#x27;)</pre></div></div></div><div class=\"sk-item\"><div class=\"sk-estimator sk-toggleable\"><input class=\"sk-toggleable__control sk-hidden--visually\" id=\"sk-estimator-id-6\" type=\"checkbox\" ><label for=\"sk-estimator-id-6\" class=\"sk-toggleable__label sk-toggleable__label-arrow\">StandardScaler</label><div class=\"sk-toggleable__content\"><pre>StandardScaler()</pre></div></div></div></div></div></div></div></div><div class=\"sk-parallel-item\"><div class=\"sk-item\"><div class=\"sk-label-container\"><div class=\"sk-label sk-toggleable\"><input class=\"sk-toggleable__control sk-hidden--visually\" id=\"sk-estimator-id-7\" type=\"checkbox\" ><label for=\"sk-estimator-id-7\" class=\"sk-toggleable__label sk-toggleable__label-arrow\">cat</label><div class=\"sk-toggleable__content\"><pre>[&#x27;Geography&#x27;, &#x27;Gender&#x27;]</pre></div></div></div><div class=\"sk-serial\"><div class=\"sk-item\"><div class=\"sk-serial\"><div class=\"sk-item\"><div class=\"sk-estimator sk-toggleable\"><input class=\"sk-toggleable__control sk-hidden--visually\" id=\"sk-estimator-id-8\" type=\"checkbox\" ><label for=\"sk-estimator-id-8\" class=\"sk-toggleable__label sk-toggleable__label-arrow\">OneHotEncoder</label><div class=\"sk-toggleable__content\"><pre>OneHotEncoder(drop=&#x27;first&#x27;, sparse=False)</pre></div></div></div><div class=\"sk-item\"><div class=\"sk-estimator sk-toggleable\"><input class=\"sk-toggleable__control sk-hidden--visually\" id=\"sk-estimator-id-9\" type=\"checkbox\" ><label for=\"sk-estimator-id-9\" class=\"sk-toggleable__label sk-toggleable__label-arrow\">StandardScaler</label><div class=\"sk-toggleable__content\"><pre>StandardScaler()</pre></div></div></div></div></div></div></div></div><div class=\"sk-parallel-item\"><div class=\"sk-item\"><div class=\"sk-label-container\"><div class=\"sk-label sk-toggleable\"><input class=\"sk-toggleable__control sk-hidden--visually\" id=\"sk-estimator-id-10\" type=\"checkbox\" ><label for=\"sk-estimator-id-10\" class=\"sk-toggleable__label sk-toggleable__label-arrow\">remainder</label><div class=\"sk-toggleable__content\"><pre>[&#x27;CreditScore&#x27;, &#x27;Age&#x27;, &#x27;Balance&#x27;, &#x27;NumOfProducts&#x27;, &#x27;HasCrCard&#x27;, &#x27;IsActiveMember&#x27;, &#x27;EstimatedSalary&#x27;]</pre></div></div></div><div class=\"sk-serial\"><div class=\"sk-item\"><div class=\"sk-estimator sk-toggleable\"><input class=\"sk-toggleable__control sk-hidden--visually\" id=\"sk-estimator-id-11\" type=\"checkbox\" ><label for=\"sk-estimator-id-11\" class=\"sk-toggleable__label sk-toggleable__label-arrow\">StandardScaler</label><div class=\"sk-toggleable__content\"><pre>StandardScaler()</pre></div></div></div></div></div></div></div></div></div></div>"
      ],
      "text/plain": [
       "ColumnTransformer(remainder=StandardScaler(),\n",
       "                  transformers=[('drop',\n",
       "                                 FunctionTransformer(func=<function my_drop_columns at 0x000001EB0D168A60>,\n",
       "                                                     kw_args={'columns_to_drop': ['RowNumber',\n",
       "                                                                                  'CustomerId',\n",
       "                                                                                  'Surname']}),\n",
       "                                 ['RowNumber', 'CustomerId', 'Surname']),\n",
       "                                ('num',\n",
       "                                 Pipeline(steps=[('imp',\n",
       "                                                  SimpleImputer(fill_value=8.0,\n",
       "                                                                strategy='constant')),\n",
       "                                                 ('scale', StandardScaler())]),\n",
       "                                 ['Tenure']),\n",
       "                                ('cat',\n",
       "                                 Pipeline(steps=[('onehot',\n",
       "                                                  OneHotEncoder(drop='first',\n",
       "                                                                sparse=False)),\n",
       "                                                 ('scale', StandardScaler())]),\n",
       "                                 ['Geography', 'Gender'])])"
      ]
     },
     "execution_count": 27,
     "metadata": {},
     "output_type": "execute_result"
    }
   ],
   "source": [
    "new_fill_value = grid_search_tenure.best_params_.get('preprocessing__num__imp__fill_value')\n",
    "trans_pipeline.set_params(num__imp__fill_value=new_fill_value)"
   ]
  },
  {
   "cell_type": "code",
   "execution_count": 28,
   "metadata": {},
   "outputs": [],
   "source": [
    "X_train = trans_pipeline.fit_transform(churn_features_train).copy()\n",
    "y_train = churn_target_train.values.copy()\n",
    "\n",
    "X_valid = trans_pipeline.transform(churn_features_valid).copy()\n",
    "y_valid = churn_target_valid.values.copy()"
   ]
  },
  {
   "cell_type": "markdown",
   "metadata": {},
   "source": [
    "### Быстрая оценка моделей."
   ]
  },
  {
   "cell_type": "markdown",
   "metadata": {},
   "source": [
    "Мы подготовили данные и отбросили неинформативные признаки, трансформировали категорийные, провели масштабирование и устранили пропуски. Кроме того, как и следовало ожидать из постановки задачи, целевой класс достаточно разбалансирован. Проверим как ведут себя наиболее известные модели на наших данных. Пока без обработки дисбаланса класса."
   ]
  },
  {
   "cell_type": "code",
   "execution_count": 29,
   "metadata": {},
   "outputs": [
    {
     "name": "stdout",
     "output_type": "stream",
     "text": [
      "Значение метрики F1 DecisionTreeClassifier: 0.513\n",
      "ROC AUC-мера: 0.689\n"
     ]
    }
   ],
   "source": [
    "model_dtc = DecisionTreeClassifier(random_state=RANDOM_STATE)\n",
    "model_dtc.fit(X_train, y_train)\n",
    "predicted_valid = model_dtc.predict(X_valid)\n",
    "print('Значение метрики F1 DecisionTreeClassifier:', round(f1_score(y_valid, predicted_valid), 3))\n",
    "print(f'ROC AUC-мера: {roc_auc_score(y_valid, model_dtc.predict_proba(X_valid)[:, 1]):.3f}')"
   ]
  },
  {
   "cell_type": "code",
   "execution_count": 30,
   "metadata": {
    "scrolled": false
   },
   "outputs": [
    {
     "name": "stdout",
     "output_type": "stream",
     "text": [
      "Значение метрики F1 RandomForestClassifier: 0.556\n",
      "ROC AUC-мера: 0.835\n"
     ]
    }
   ],
   "source": [
    "model_rfc = RandomForestClassifier(random_state=RANDOM_STATE)\n",
    "model_rfc.fit(X_train, y_train)\n",
    "predicted_valid = model_rfc.predict(X_valid)\n",
    "print('Значение метрики F1 RandomForestClassifier:', round(f1_score(y_valid, predicted_valid), 3))\n",
    "print(f'ROC AUC-мера: {roc_auc_score(y_valid, model_rfc.predict_proba(X_valid)[:, 1]):.3f}')"
   ]
  },
  {
   "cell_type": "code",
   "execution_count": 31,
   "metadata": {},
   "outputs": [
    {
     "name": "stdout",
     "output_type": "stream",
     "text": [
      "Значение метрики F1 GradientBoostingClassifier: 0.542\n",
      "ROC AUC-мера: 0.846\n"
     ]
    }
   ],
   "source": [
    "model_gbc = GradientBoostingClassifier(random_state=RANDOM_STATE)\n",
    "model_gbc.fit(X_train, y_train)\n",
    "predicted_valid = model_gbc.predict(X_valid)\n",
    "print('Значение метрики F1 GradientBoostingClassifier:', round(f1_score(y_valid, predicted_valid), 3))\n",
    "print(f'ROC AUC-мера: {roc_auc_score(y_valid, model_gbc.predict_proba(X_valid)[:, 1]):.3f}')"
   ]
  },
  {
   "cell_type": "markdown",
   "metadata": {},
   "source": [
    "Все полученные метрики F1 ещё очень далеки от требуемого качества."
   ]
  },
  {
   "cell_type": "markdown",
   "metadata": {},
   "source": [
    "### Оценка гиперпараметров."
   ]
  },
  {
   "cell_type": "code",
   "execution_count": 32,
   "metadata": {},
   "outputs": [
    {
     "name": "stdout",
     "output_type": "stream",
     "text": [
      "Результаты GridSearchCV для DecisionTreeClassifier загружены из файла\n",
      "Лучшие гиперпараметры:\n",
      "{\n",
      "    \"criterion\": \"entropy\",\n",
      "    \"max_depth\": 5,\n",
      "    \"min_samples_leaf\": 3,\n",
      "    \"min_samples_split\": 2\n",
      "}\n",
      "F1 обученной оптимизированной модели DecisionTreeClassifier: 0.575\n",
      "Лучшая ROC AUC-мера: 0.819\n"
     ]
    }
   ],
   "source": [
    "if exists('gridsearch_dtc_results.3.3.joblib'):\n",
    "    grid_search_dtc = load('gridsearch_dtc_results.3.3.joblib')\n",
    "    print('Результаты GridSearchCV для DecisionTreeClassifier загружены из файла')\n",
    "else:\n",
    "    param_grid = {'max_depth': [5, 10, 30], \n",
    "                  'criterion': ['gini', 'entropy', 'log_loss'],\n",
    "                  'min_samples_split': [1, 2, 4], \n",
    "                  'min_samples_leaf': [3, 5, 7]}\n",
    "\n",
    "    model_dtc = DecisionTreeClassifier(random_state=RANDOM_STATE)\n",
    "    grid_search_dtc = GridSearchCV(model_dtc, param_grid = param_grid, scoring='f1', n_jobs=-1)\n",
    "    grid_search_dtc.fit(X_train, y_train)\n",
    "\n",
    "    dump(grid_search_dtc, 'gridsearch_dtc_results.3.3.joblib')\n",
    "    print('Результаты GridSearchCV для DecisionTreeClassifier сохранены в файле')\n",
    "\n",
    "model_dtc = grid_search_dtc.best_estimator_\n",
    "\n",
    "predicted_valid = model_dtc.predict(X_valid)\n",
    "print(f'Лучшие гиперпараметры:\\n{json.dumps(grid_search_dtc.best_params_, indent=4, sort_keys=True)}')\n",
    "print(f'F1 обученной оптимизированной модели DecisionTreeClassifier: {grid_search_dtc.best_score_:.3f}')\n",
    "print(f'Лучшая ROC AUC-мера: {roc_auc_score(y_valid, model_dtc.predict_proba(X_valid)[:, 1]):.3f}')"
   ]
  },
  {
   "cell_type": "code",
   "execution_count": 33,
   "metadata": {},
   "outputs": [
    {
     "name": "stdout",
     "output_type": "stream",
     "text": [
      "Результаты GridSearchCV для RandomForestClassifier загружены из файла\n",
      "Лучшие гиперпараметры:\n",
      "{\n",
      "    \"criterion\": \"gini\",\n",
      "    \"max_depth\": 13,\n",
      "    \"min_samples_leaf\": 3,\n",
      "    \"min_samples_split\": 2,\n",
      "    \"n_estimators\": 70\n",
      "}\n",
      "F1 обученной оптимизированной модели RandomForestClassifier: 0.593\n",
      "Лучшая ROC AUC-мера: 0.841\n"
     ]
    }
   ],
   "source": [
    "if exists('gridsearch_rfc_results.3.3.joblib'):\n",
    "    grid_search_rfc = load('gridsearch_rfc_results.3.3.joblib')\n",
    "    print('Результаты GridSearchCV для RandomForestClassifier загружены из файла')\n",
    "else:\n",
    "    param_grid = {'n_estimators': [50, 70, 90], \n",
    "                  'max_depth': [9, 11, 13], \n",
    "                  'criterion': ['gini', 'entropy'],\n",
    "                  'min_samples_split': [1, 2, 4], \n",
    "                  'min_samples_leaf': [1, 3, 5]}\n",
    "\n",
    "    model_rfc = RandomForestClassifier(random_state=RANDOM_STATE)\n",
    "    grid_search_rfc = GridSearchCV(model_rfc, param_grid = param_grid, scoring='f1', n_jobs=-1)\n",
    "    grid_search_rfc.fit(X_train, y_train)\n",
    "\n",
    "    dump(grid_search_rfc, 'gridsearch_rfc_results.3.3.joblib')\n",
    "    print('Результаты GridSearchCV для RandomForestClassifier сохранены в файле')\n",
    "\n",
    "model_rfc = grid_search_rfc.best_estimator_\n",
    "\n",
    "predicted_valid = model_rfc.predict(X_valid)\n",
    "print(f'Лучшие гиперпараметры:\\n{json.dumps(grid_search_rfc.best_params_, indent=4, sort_keys=True)}')\n",
    "print(f'F1 обученной оптимизированной модели RandomForestClassifier: {grid_search_rfc.best_score_:.3f}')\n",
    "print(f'Лучшая ROC AUC-мера: {roc_auc_score(y_valid, model_rfc.predict_proba(X_valid)[:, 1]):.3f}')"
   ]
  },
  {
   "cell_type": "code",
   "execution_count": 34,
   "metadata": {},
   "outputs": [
    {
     "name": "stdout",
     "output_type": "stream",
     "text": [
      "Результаты GridSearchCV для GradientBoostingClassifier загружены из файла\n",
      "Лучшие гиперпараметры:\n",
      "{\n",
      "    \"learning_rate\": 0.1,\n",
      "    \"max_depth\": 5,\n",
      "    \"n_estimators\": 50\n",
      "}\n",
      "F1 обученной оптимизированной модели GradientBoostingClassifier: 0.598\n",
      "Лучшая ROC AUC-мера: 0.842\n"
     ]
    }
   ],
   "source": [
    "if exists('gridsearch_gbc_results.3.3.joblib'):\n",
    "    grid_search_gbc = load('gridsearch_gbc_results.3.3.joblib')\n",
    "    print('Результаты GridSearchCV для GradientBoostingClassifier загружены из файла')\n",
    "else:\n",
    "    param_grid = {'n_estimators': [50, 100, 150], \\\n",
    "                  'max_depth': [3, 5, 7], \\\n",
    "                  'learning_rate': [0.01, 0.1, 1]}\n",
    "\n",
    "    model_gbc = GradientBoostingClassifier(random_state=RANDOM_STATE)\n",
    "    grid_search_gbc = GridSearchCV(model_gbc, param_grid = param_grid, scoring='f1', n_jobs=-1)\n",
    "    grid_search_gbc.fit(X_train, y_train)\n",
    "\n",
    "    dump(grid_search_gbc, 'gridsearch_gbc_results.3.3.joblib')\n",
    "    print('Результаты GridSearchCV для GradientBoostingClassifier сохранены в файле')\n",
    "\n",
    "model_gbc = grid_search_gbc.best_estimator_\n",
    "\n",
    "predicted_valid = model_gbc.predict(X_valid)\n",
    "print(f'Лучшие гиперпараметры:\\n{json.dumps(grid_search_gbc.best_params_, indent=4, sort_keys=True)}')\n",
    "print(f'F1 обученной оптимизированной модели GradientBoostingClassifier: {grid_search_gbc.best_score_:.3f}')\n",
    "print(f'Лучшая ROC AUC-мера: {roc_auc_score(y_valid, model_gbc.predict_proba(X_valid)[:, 1]):.3f}')"
   ]
  },
  {
   "cell_type": "markdown",
   "metadata": {},
   "source": [
    "### Вывод."
   ]
  },
  {
   "cell_type": "markdown",
   "metadata": {},
   "source": [
    "Мы провели дополнительную обработку данных, включив в наш пайплайн обработки эстиматор для оценки замены значений np.nan, что значительно улучшило качество данных.\n",
    "\n",
    "Далее, мы приступили к оценке производительности различных моделей на наших обработанных данных. Важно отметить, что на данном этапе мы еще не учли дисбаланс классов, поэтому полученные результаты следует рассматривать с учетом этой особенности.\n",
    "\n",
    "Из проведенного анализа стало ясно, что модели, такие как DecisionTreeClassifier, RandomForestClassifier и GradientBoostingClassifier, демонстрируют схожие показатели F1-меры, которые составляют около $0.50-0.55$. Это говорит о том, что на текущем этапе выбор модели не оказывает существенного влияния на качество предсказания.\n",
    "\n",
    "Однако, при более детальном рассмотрении результатов, мы обнаружили, что изменение гиперпараметров этих моделей не приводит к значительному улучшению результатов. Это является сигналом о необходимости учитывать дисбаланс классов, чтобы получить более точные и релевантные предсказания.\n",
    "\n",
    "Таким образом, для дальнейшего улучшения модели и повышения ее производительности, следует уделить внимание обработке дисбаланса классов."
   ]
  },
  {
   "cell_type": "markdown",
   "metadata": {},
   "source": [
    "## Борьба с дисбалансом."
   ]
  },
  {
   "cell_type": "markdown",
   "metadata": {},
   "source": [
    "### Class Weight."
   ]
  },
  {
   "cell_type": "markdown",
   "metadata": {},
   "source": [
    "#### DecisionTreeClassifier."
   ]
  },
  {
   "cell_type": "code",
   "execution_count": 35,
   "metadata": {
    "scrolled": true
   },
   "outputs": [
    {
     "name": "stdout",
     "output_type": "stream",
     "text": [
      "Результаты GridSearchCV для DecisionTreeClassifier загружены из файла\n",
      "Лучшие гиперпараметры:\n",
      "{\n",
      "    \"class_weight\": \"balanced\",\n",
      "    \"criterion\": \"entropy\",\n",
      "    \"max_depth\": 5,\n",
      "    \"min_samples_leaf\": 5,\n",
      "    \"min_samples_split\": 2\n",
      "}\n",
      "F1 обученной оптимизированной модели DecisionTreeClassifier: 0.580\n",
      "Лучшая ROC AUC-мера: 0.822\n"
     ]
    }
   ],
   "source": [
    "if exists('gridsearch_dtc_results.4.1.joblib'):\n",
    "    grid_search_dtc = load('gridsearch_dtc_results.4.1.joblib')\n",
    "    print('Результаты GridSearchCV для DecisionTreeClassifier загружены из файла')\n",
    "else:\n",
    "    param_grid = {'max_depth': [5, 10, 30], \n",
    "                  'criterion': ['gini', 'entropy', 'log_loss'],\n",
    "                  'min_samples_split': [1, 2, 4], \n",
    "                  'min_samples_leaf': [3, 5, 7],\n",
    "                  'class_weight': ['balanced', None]}\n",
    "\n",
    "    model_dtc_41 = DecisionTreeClassifier(random_state=RANDOM_STATE)\n",
    "    grid_search_dtc = GridSearchCV(model_dtc_41, param_grid = param_grid, scoring='f1', n_jobs=-1)\n",
    "    grid_search_dtc.fit(X_train, y_train)\n",
    "\n",
    "    dump(grid_search_dtc, 'gridsearch_dtc_results.4.1.joblib')\n",
    "    print('Результаты GridSearchCV для DecisionTreeClassifier сохранены в файле')\n",
    "\n",
    "model_dtc_41 = grid_search_dtc.best_estimator_\n",
    "\n",
    "predicted_valid = model_dtc_41.predict(X_valid)\n",
    "print(f'Лучшие гиперпараметры:\\n{json.dumps(grid_search_dtc.best_params_, indent=4, sort_keys=True)}')\n",
    "print(f'F1 обученной оптимизированной модели DecisionTreeClassifier: {grid_search_dtc.best_score_:.3f}')\n",
    "print(f'Лучшая ROC AUC-мера: {roc_auc_score(y_valid, model_dtc_41.predict_proba(X_valid)[:, 1]):.3f}')"
   ]
  },
  {
   "cell_type": "markdown",
   "metadata": {},
   "source": [
    "#### RandomForestClassifier."
   ]
  },
  {
   "cell_type": "code",
   "execution_count": 36,
   "metadata": {},
   "outputs": [
    {
     "name": "stdout",
     "output_type": "stream",
     "text": [
      "Результаты GridSearchCV для RandomForestClassifier загружены из файла\n",
      "Лучшие гиперпараметры:\n",
      "{\n",
      "    \"class_weight\": \"balanced\",\n",
      "    \"criterion\": \"gini\",\n",
      "    \"max_depth\": 13,\n",
      "    \"min_samples_leaf\": 5,\n",
      "    \"min_samples_split\": 2,\n",
      "    \"n_estimators\": 90\n",
      "}\n",
      "F1 обученной оптимизированной модели RandomForestClassifier: 0.580\n",
      "Лучшая ROC AUC-мера: 0.842\n"
     ]
    }
   ],
   "source": [
    "if exists('gridsearch_rfc_results.4.1.joblib'):\n",
    "    grid_search_rfc = load('gridsearch_rfc_results.4.1.joblib')\n",
    "    print('Результаты GridSearchCV для RandomForestClassifier загружены из файла')\n",
    "else:\n",
    "    param_grid = {'n_estimators': [50, 70, 90], \n",
    "                  'max_depth': [9, 11, 13], \n",
    "                  'criterion': ['gini', 'entropy'],\n",
    "                  'min_samples_split': [1, 2, 4], \n",
    "                  'min_samples_leaf': [1, 3, 5],\n",
    "                  'class_weight': ['balanced', None]}\n",
    "\n",
    "    model_rfc_41 = RandomForestClassifier(random_state=RANDOM_STATE)\n",
    "    grid_search_rfc = GridSearchCV(model_rfc_41, param_grid = param_grid, scoring='f1', n_jobs=-1)\n",
    "    grid_search_rfc.fit(X_train, y_train)\n",
    "    \n",
    "    dump(grid_search_rfc, 'gridsearch_rfc_results.4.1.joblib')\n",
    "    print('Результаты GridSearchCV для RandomForestClassifier сохранены в файле')\n",
    "\n",
    "model_rfc_41 = grid_search_rfc.best_estimator_\n",
    "\n",
    "predicted_valid = model_rfc_41.predict(X_valid)\n",
    "print(f'Лучшие гиперпараметры:\\n{json.dumps(grid_search_rfc.best_params_, indent=4, sort_keys=True)}')\n",
    "print(f'F1 обученной оптимизированной модели RandomForestClassifier: {grid_search_dtc.best_score_:.3f}')\n",
    "print(f'Лучшая ROC AUC-мера: {roc_auc_score(y_valid, model_rfc_41.predict_proba(X_valid)[:, 1]):.3f}')"
   ]
  },
  {
   "cell_type": "markdown",
   "metadata": {},
   "source": [
    "### Upsampling."
   ]
  },
  {
   "cell_type": "markdown",
   "metadata": {},
   "source": [
    "Проведем Upsampling данных и повторим вычисления."
   ]
  },
  {
   "cell_type": "code",
   "execution_count": 37,
   "metadata": {},
   "outputs": [],
   "source": [
    "#my_churn_transform = MyChurnDataTransormer(my_sampling_selector=1)\n",
    "#X_upsampled, y_upsampled = my_churn_transform.fit_transform(X_train, y_train)"
   ]
  },
  {
   "cell_type": "code",
   "execution_count": 38,
   "metadata": {},
   "outputs": [],
   "source": [
    "upsample = SMOTE(random_state=RANDOM_STATE)\n",
    "X_upsampled, y_upsampled = upsample.fit_resample(X_train, y_train)"
   ]
  },
  {
   "cell_type": "code",
   "execution_count": 39,
   "metadata": {},
   "outputs": [
    {
     "data": {
      "text/plain": [
       "0.5"
      ]
     },
     "execution_count": 39,
     "metadata": {},
     "output_type": "execute_result"
    }
   ],
   "source": [
    "y_upsampled.mean()"
   ]
  },
  {
   "cell_type": "markdown",
   "metadata": {},
   "source": [
    "#### DecisionTreeClassifier."
   ]
  },
  {
   "cell_type": "code",
   "execution_count": 40,
   "metadata": {},
   "outputs": [
    {
     "name": "stdout",
     "output_type": "stream",
     "text": [
      "Результаты model_dtc_42_new загружены из файла\n",
      "Лучшие гиперпараметры:\n",
      "{\n",
      "    \"criterion\": \"entropy\",\n",
      "    \"max_depth\": 7,\n",
      "    \"min_samples_leaf\": 5,\n",
      "    \"min_samples_split\": 2\n",
      "}\n",
      "Лучшая F1-мера: 0.582\n",
      "Лучшая ROC AUC-мера: 0.817\n"
     ]
    }
   ],
   "source": [
    "if exists('dtc_42_new_results.4.2.joblib'):\n",
    "    model_dtc_42_new, best_params, best_f1_score = load('dtc_42_new_results.4.2.joblib')\n",
    "    print('Результаты model_dtc_42_new загружены из файла')\n",
    "else:\n",
    "    param_grid = {'max_depth': [5, 7, 9],\n",
    "                  'criterion': ['gini', 'entropy', 'log_loss'],\n",
    "                  'min_samples_split': [2, 4],\n",
    "                  'min_samples_leaf': [3, 5, 7]}\n",
    "\n",
    "    best_f1_score = 0\n",
    "    best_params = {}\n",
    "\n",
    "    for params in product(param_grid['max_depth'], \n",
    "                          param_grid['criterion'], \n",
    "                          param_grid['min_samples_split'], \n",
    "                          param_grid['min_samples_leaf']):\n",
    "\n",
    "        max_depth, criterion, min_samples_split, min_samples_leaf = params\n",
    "        model_dtc_42_new = DecisionTreeClassifier(random_state=RANDOM_STATE,\n",
    "                                                  max_depth=max_depth,\n",
    "                                                  criterion=criterion,\n",
    "                                                  min_samples_split=min_samples_split,\n",
    "                                                  min_samples_leaf=min_samples_leaf)\n",
    "        model_dtc_42_new.fit(X_upsampled, y_upsampled)\n",
    "        predicted_valid = model_dtc_42_new.predict(X_valid)\n",
    "        f1 = f1_score(y_valid, predicted_valid)\n",
    "\n",
    "        if f1 > best_f1_score:\n",
    "            best_f1_score = f1\n",
    "            best_params = dict(zip(param_grid.keys(), params))\n",
    "            best_model = model_dtc_42_new\n",
    "\n",
    "    model_dtc_42_new = best_model\n",
    "    dump((model_dtc_42_new, best_params, best_f1_score), 'dtc_42_new_results.4.2.joblib')\n",
    "    print('Результаты model_dtc_42_new сохранены в файле')\n",
    "\n",
    "print(f'Лучшие гиперпараметры:\\n{json.dumps(best_params, indent=4, sort_keys=True)}')\n",
    "print(f'Лучшая F1-мера: {best_f1_score:.3f}')\n",
    "print(f'Лучшая ROC AUC-мера: {roc_auc_score(y_valid, model_dtc_42_new.predict_proba(X_valid)[:, 1]):.3f}')"
   ]
  },
  {
   "cell_type": "markdown",
   "metadata": {},
   "source": [
    "#### RandomForestClassifier."
   ]
  },
  {
   "cell_type": "code",
   "execution_count": 41,
   "metadata": {},
   "outputs": [
    {
     "name": "stdout",
     "output_type": "stream",
     "text": [
      "Результаты model_rfc_42_new загружены из файла\n",
      "Лучшие гиперпараметры:\n",
      "{\n",
      "    \"criterion\": \"entropy\",\n",
      "    \"max_depth\": 13,\n",
      "    \"min_samples_leaf\": 5,\n",
      "    \"min_samples_split\": 2,\n",
      "    \"n_estimators\": 70\n",
      "}\n",
      "Лучшая F1-мера: 0.615\n",
      "Лучшая ROC AUC-мера: 0.847\n"
     ]
    }
   ],
   "source": [
    "if exists('rfc_42_new_results.4.2.joblib'):\n",
    "    model_rfc_42_new, best_params, best_f1_score = load('rfc_42_new_results.4.2.joblib')\n",
    "    print('Результаты model_rfc_42_new загружены из файла')\n",
    "else:\n",
    "    param_grid = {'n_estimators': [50, 70, 90], \n",
    "                  'max_depth': [9, 11, 13], \n",
    "                  'criterion': ['gini', 'entropy'],\n",
    "                  'min_samples_split': [2, 4], \n",
    "                  'min_samples_leaf': [1, 3, 5]}\n",
    "\n",
    "    best_f1_score = 0\n",
    "    best_params = {}\n",
    "\n",
    "    for params in product(param_grid['n_estimators'], \n",
    "                          param_grid['max_depth'], \n",
    "                          param_grid['criterion'], \n",
    "                          param_grid['min_samples_split'], \n",
    "                          param_grid['min_samples_leaf']):\n",
    "\n",
    "        n_estimators, max_depth, criterion, min_samples_split, min_samples_leaf = params\n",
    "        model_rfc_42_new = RandomForestClassifier(random_state=RANDOM_STATE,\n",
    "                                                  n_estimators=n_estimators, \n",
    "                                                  max_depth=max_depth,\n",
    "                                                  criterion=criterion,\n",
    "                                                  min_samples_split=min_samples_split,\n",
    "                                                  min_samples_leaf=min_samples_leaf)\n",
    "        model_rfc_42_new.fit(X_upsampled, y_upsampled)\n",
    "        predicted_valid = model_rfc_42_new.predict(X_valid)\n",
    "        f1 = f1_score(y_valid, predicted_valid)\n",
    "\n",
    "        if f1 > best_f1_score:\n",
    "            best_f1_score = f1\n",
    "            best_params = dict(zip(param_grid.keys(), params))\n",
    "            best_model = model_rfc_42_new\n",
    "\n",
    "    model_rfc_42_new = best_model\n",
    "    dump((model_rfc_42_new, best_params, best_f1_score), 'rfc_42_new_results.4.2.joblib')\n",
    "    print('Результаты model_rfc_42_new сохранены в файле')\n",
    "\n",
    "print(f'Лучшие гиперпараметры:\\n{json.dumps(best_params, indent=4, sort_keys=True)}')\n",
    "print(f'Лучшая F1-мера: {best_f1_score:.3f}')\n",
    "print(f'Лучшая ROC AUC-мера: {roc_auc_score(y_valid, model_rfc_42_new.predict_proba(X_valid)[:, 1]):.3f}')"
   ]
  },
  {
   "cell_type": "markdown",
   "metadata": {},
   "source": [
    "#### GradientBoostingClassifier."
   ]
  },
  {
   "cell_type": "code",
   "execution_count": 42,
   "metadata": {},
   "outputs": [
    {
     "name": "stdout",
     "output_type": "stream",
     "text": [
      "Результаты model_gbc_42_new загружены из файла\n",
      "Лучшие гиперпараметры:\n",
      "{\n",
      "    \"learning_rate\": 0.1,\n",
      "    \"max_depth\": 3,\n",
      "    \"n_estimators\": 150\n",
      "}\n",
      "Лучшая F1-мера: 0.624\n",
      "Лучшая ROC AUC-мера: 0.854\n"
     ]
    }
   ],
   "source": [
    "if exists('gbc_42_new_results.4.2.joblib'):\n",
    "    model_gbc_42_new, best_params, best_f1_score = load('gbc_42_new_results.4.2.joblib')\n",
    "    print('Результаты model_gbc_42_new загружены из файла')\n",
    "else:\n",
    "    param_grid = {'n_estimators': [50, 100, 150], \n",
    "                  'max_depth': [3, 5, 7], \n",
    "                  'learning_rate': [0.01, 0.1, 1]}\n",
    "\n",
    "    best_f1_score = 0\n",
    "    best_params = {}\n",
    "\n",
    "    for params in product(param_grid['n_estimators'], \n",
    "                          param_grid['max_depth'], \n",
    "                          param_grid['learning_rate']):\n",
    "\n",
    "        n_estimators, max_depth, learning_rate = params\n",
    "        model_gbc_42_new = GradientBoostingClassifier(random_state=RANDOM_STATE,\n",
    "                                                      n_estimators=n_estimators,\n",
    "                                                      max_depth=max_depth,\n",
    "                                                      learning_rate=learning_rate)\n",
    "        model_gbc_42_new.fit(X_upsampled, y_upsampled)\n",
    "        predicted_valid = model_gbc_42_new.predict(X_valid)\n",
    "        f1 = f1_score(y_valid, predicted_valid)\n",
    "\n",
    "        if f1 > best_f1_score:\n",
    "            best_f1_score = f1\n",
    "            best_params = dict(zip(param_grid.keys(), params))\n",
    "            best_model = model_gbc_42_new\n",
    "\n",
    "    model_gbc_42_new = best_model\n",
    "    dump((model_gbc_42_new, best_params, best_f1_score), 'gbc_42_new_results.4.2.joblib')\n",
    "    print('Результаты model_gbc_42_new сохранены в файле')\n",
    "\n",
    "print(f'Лучшие гиперпараметры:\\n{json.dumps(best_params, indent=4, sort_keys=True)}')\n",
    "print(f'Лучшая F1-мера: {best_f1_score:.3f}')\n",
    "print(f'Лучшая ROC AUC-мера: {roc_auc_score(y_valid, model_gbc_42_new.predict_proba(X_valid)[:, 1]):.3f}')"
   ]
  },
  {
   "cell_type": "markdown",
   "metadata": {},
   "source": [
    "### Downsampling."
   ]
  },
  {
   "cell_type": "markdown",
   "metadata": {},
   "source": [
    "Проведем Downsampling данных и повторим вычисления."
   ]
  },
  {
   "cell_type": "code",
   "execution_count": 43,
   "metadata": {},
   "outputs": [],
   "source": [
    "#my_churn_transform = MyChurnDataTransormer(my_sampling_selector=-1)\n",
    "#X_downsampled, y_downsampled = my_churn_transform.fit_transform(X_train, y_train)"
   ]
  },
  {
   "cell_type": "code",
   "execution_count": 44,
   "metadata": {},
   "outputs": [],
   "source": [
    "downsample = RandomUnderSampler(random_state=RANDOM_STATE)\n",
    "X_downsampled, y_downsampled = downsample.fit_resample(X_train, y_train)"
   ]
  },
  {
   "cell_type": "code",
   "execution_count": 45,
   "metadata": {},
   "outputs": [
    {
     "data": {
      "text/plain": [
       "0.5"
      ]
     },
     "execution_count": 45,
     "metadata": {},
     "output_type": "execute_result"
    }
   ],
   "source": [
    "y_downsampled.mean()"
   ]
  },
  {
   "cell_type": "markdown",
   "metadata": {},
   "source": [
    "#### DecisionTreeClassifier."
   ]
  },
  {
   "cell_type": "code",
   "execution_count": 46,
   "metadata": {},
   "outputs": [
    {
     "name": "stdout",
     "output_type": "stream",
     "text": [
      "Результаты model_dtc_43_new загружены из файла\n",
      "Лучшие гиперпараметры:\n",
      "{\n",
      "    \"criterion\": \"entropy\",\n",
      "    \"max_depth\": 7,\n",
      "    \"min_samples_leaf\": 5,\n",
      "    \"min_samples_split\": 2\n",
      "}\n",
      "Лучшая F1-мера: 0.558\n",
      "Лучшая ROC AUC-мера: 0.814\n"
     ]
    }
   ],
   "source": [
    "if exists('dtc_43_new_results.4.3.joblib'):\n",
    "    model_dtc_43_new, best_params, best_f1_score = load('dtc_43_new_results.4.3.joblib')\n",
    "    print('Результаты model_dtc_43_new загружены из файла')\n",
    "else:\n",
    "    param_grid = {'max_depth': [5, 7, 9],\n",
    "                  'criterion': ['gini', 'entropy', 'log_loss'],\n",
    "                  'min_samples_split': [2, 4],\n",
    "                  'min_samples_leaf': [3, 5, 7]}\n",
    "\n",
    "    best_f1_score = 0\n",
    "    best_params = {}\n",
    "\n",
    "    for params in product(param_grid['max_depth'], \n",
    "                          param_grid['criterion'], \n",
    "                          param_grid['min_samples_split'], \n",
    "                          param_grid['min_samples_leaf']):\n",
    "\n",
    "        max_depth, criterion, min_samples_split, min_samples_leaf = params\n",
    "        model_dtc_43_new = DecisionTreeClassifier(random_state=RANDOM_STATE,\n",
    "                                                  max_depth=max_depth,\n",
    "                                                  criterion=criterion,\n",
    "                                                  min_samples_split=min_samples_split,\n",
    "                                                  min_samples_leaf=min_samples_leaf)\n",
    "        model_dtc_43_new.fit(X_downsampled, y_downsampled)\n",
    "        predicted_valid = model_dtc_43_new.predict(X_valid)\n",
    "        f1 = f1_score(y_valid, predicted_valid)\n",
    "\n",
    "        if f1 > best_f1_score:\n",
    "            best_f1_score = f1\n",
    "            best_params = dict(zip(param_grid.keys(), params))\n",
    "            best_model = model_dtc_43_new\n",
    "\n",
    "    model_dtc_43_new = best_model\n",
    "    dump((model_dtc_43_new, best_params, best_f1_score), 'dtc_43_new_results.4.3.joblib')\n",
    "    print('Результаты model_dtc_43_new сохранены в файле')\n",
    "\n",
    "print(f'Лучшие гиперпараметры:\\n{json.dumps(best_params, indent=4, sort_keys=True)}')\n",
    "print(f'Лучшая F1-мера: {best_f1_score:.3f}')\n",
    "print(f'Лучшая ROC AUC-мера: {roc_auc_score(y_valid, model_dtc_43_new.predict_proba(X_valid)[:, 1]):.3f}')"
   ]
  },
  {
   "cell_type": "markdown",
   "metadata": {},
   "source": [
    "#### RandomForestClassifier."
   ]
  },
  {
   "cell_type": "code",
   "execution_count": 47,
   "metadata": {},
   "outputs": [
    {
     "name": "stdout",
     "output_type": "stream",
     "text": [
      "Результаты model_rfc_43_new загружены из файла\n",
      "Лучшие гиперпараметры:\n",
      "{\n",
      "    \"criterion\": \"gini\",\n",
      "    \"max_depth\": 9,\n",
      "    \"min_samples_leaf\": 1,\n",
      "    \"min_samples_split\": 4,\n",
      "    \"n_estimators\": 90\n",
      "}\n",
      "Лучшая F1-мера: 0.600\n",
      "Лучшая ROC AUC-мера: 0.842\n"
     ]
    }
   ],
   "source": [
    "if exists('rfc_43_new_results.4.3.joblib'):\n",
    "    model_rfc_43_new, best_params, best_f1_score = load('rfc_43_new_results.4.3.joblib')\n",
    "    print('Результаты model_rfc_43_new загружены из файла')\n",
    "else:\n",
    "    param_grid = {'n_estimators': [50, 70, 90], \n",
    "                  'max_depth': [9, 11, 13], \n",
    "                  'criterion': ['gini', 'entropy'],\n",
    "                  'min_samples_split': [2, 4], \n",
    "                  'min_samples_leaf': [1, 3, 5]}\n",
    "\n",
    "    best_f1_score = 0\n",
    "    best_params = {}\n",
    "\n",
    "    for params in product(param_grid['n_estimators'], \n",
    "                          param_grid['max_depth'], \n",
    "                          param_grid['criterion'], \n",
    "                          param_grid['min_samples_split'], \n",
    "                          param_grid['min_samples_leaf']):\n",
    "\n",
    "        n_estimators, max_depth, criterion, min_samples_split, min_samples_leaf = params\n",
    "        model_rfc_43_new = RandomForestClassifier(random_state=RANDOM_STATE,\n",
    "                                                  n_estimators=n_estimators, \n",
    "                                                  max_depth=max_depth,\n",
    "                                                  criterion=criterion,\n",
    "                                                  min_samples_split=min_samples_split,\n",
    "                                                  min_samples_leaf=min_samples_leaf)\n",
    "        model_rfc_43_new.fit(X_downsampled, y_downsampled)\n",
    "        predicted_valid = model_rfc_43_new.predict(X_valid)\n",
    "        f1 = f1_score(y_valid, predicted_valid)\n",
    "\n",
    "        if f1 > best_f1_score:\n",
    "            best_f1_score = f1\n",
    "            best_params = dict(zip(param_grid.keys(), params))\n",
    "            best_model = model_rfc_43_new\n",
    "\n",
    "    model_rfc_43_new = best_model\n",
    "    dump((model_rfc_43_new, best_params, best_f1_score), 'rfc_43_new_results.4.3.joblib')\n",
    "    print('Результаты model_rfc_43_new сохранены в файле')\n",
    "\n",
    "print(f'Лучшие гиперпараметры:\\n{json.dumps(best_params, indent=4, sort_keys=True)}')\n",
    "print(f'Лучшая F1-мера: {best_f1_score:.3f}')\n",
    "print(f'Лучшая ROC AUC-мера: {roc_auc_score(y_valid, model_rfc_43_new.predict_proba(X_valid)[:, 1]):.3f}')"
   ]
  },
  {
   "cell_type": "markdown",
   "metadata": {},
   "source": [
    "#### GradientBoostingClassifier."
   ]
  },
  {
   "cell_type": "code",
   "execution_count": 48,
   "metadata": {},
   "outputs": [
    {
     "name": "stdout",
     "output_type": "stream",
     "text": [
      "Результаты model_gbc_43_new загружены из файла\n",
      "Лучшие гиперпараметры:\n",
      "{\n",
      "    \"learning_rate\": 0.1,\n",
      "    \"max_depth\": 3,\n",
      "    \"n_estimators\": 50\n",
      "}\n",
      "Лучшая F1-мера: 0.579\n",
      "Лучшая ROC AUC-мера: 0.842\n"
     ]
    }
   ],
   "source": [
    "if exists('gbc_43_new_results.4.3.joblib'):\n",
    "    model_gbc_43_new, best_params, best_f1_score = load('gbc_43_new_results.4.3.joblib')\n",
    "    print('Результаты model_gbc_43_new загружены из файла')\n",
    "else:\n",
    "    param_grid = {'n_estimators': [50, 100, 150], \n",
    "                  'max_depth': [3, 5, 7], \n",
    "                  'learning_rate': [0.01, 0.1, 1]}\n",
    "\n",
    "    best_f1_score = 0\n",
    "    best_params = {}\n",
    "\n",
    "    for params in product(param_grid['n_estimators'], \n",
    "                          param_grid['max_depth'], \n",
    "                          param_grid['learning_rate']):\n",
    "\n",
    "        n_estimators, max_depth, learning_rate = params\n",
    "        model_gbc_43_new = GradientBoostingClassifier(random_state=RANDOM_STATE,\n",
    "                                                      n_estimators=n_estimators,\n",
    "                                                      max_depth=max_depth,\n",
    "                                                      learning_rate=learning_rate)\n",
    "        model_gbc_43_new.fit(X_downsampled, y_downsampled)\n",
    "        predicted_valid = model_gbc_43_new.predict(X_valid)\n",
    "        f1 = f1_score(y_valid, predicted_valid)\n",
    "\n",
    "        if f1 > best_f1_score:\n",
    "            best_f1_score = f1\n",
    "            best_params = dict(zip(param_grid.keys(), params))\n",
    "            best_model = model_gbc_43_new\n",
    "\n",
    "    model_gbc_43_new = best_model\n",
    "    dump((model_gbc_43_new, best_params, best_f1_score), 'gbc_43_new_results.4.3.joblib')\n",
    "    print('Результаты model_gbc_43_new сохранены в файле')\n",
    "\n",
    "print(f'Лучшие гиперпараметры:\\n{json.dumps(best_params, indent=4, sort_keys=True)}')\n",
    "print(f'Лучшая F1-мера: {best_f1_score:.3f}')\n",
    "print(f'Лучшая ROC AUC-мера: {roc_auc_score(y_valid, model_gbc_43_new.predict_proba(X_valid)[:, 1]):.3f}')"
   ]
  },
  {
   "cell_type": "markdown",
   "metadata": {},
   "source": [
    "### Вывод."
   ]
  },
  {
   "cell_type": "markdown",
   "metadata": {},
   "source": [
    "В ходе борьбы с дисбалансом классов были применены три метода: использование параметра class_weight со значением 'balanced' в моделях, upsampling и downsampling. Кроме того, для каждого из этих методов были изменены гиперпараметры с целью достижения оптимального соотношения.\n",
    "\n",
    "При использовании downsampling мы столкнулись с наихудшими результатами. Все модели показали значения F1-меры схожие с разбалансированным классом и находились в диапазоне $0.558-0.600$. Здесь видно превышение порога $0.590$.\n",
    "\n",
    "Однако, при применении upsampling мы получили более удовлетворительные результаты. Улучшение составило до $0.02$ для модели RandomForestClassifier, а показатель F1 достиг значения $0.624$ на модели GradientBoostingClassifier. Этот результат превысил установленный минимальный уровень F1, который был задан в нашей задаче и равнялся $0.590$.\n",
    "\n",
    "Использование параметра class_weight со значением 'balanced' в моделях ограничило применение модели GradientBoostingClassifier, которая не предлагает этот гиперпараметр. Оставшиеся модели показали одинаковый результат продемонстрировав F1-меру, равную $0.580$.\n",
    "\n",
    "В результате анализа и сравнения моделей было принято решение провести итоговое тестирование на трех моделях RandomForestClassifier (class_weight='balanced' и upsampled) и GradientBoostingClassifier (upsampled). Эти модели показали наилучшие результаты среди рассмотренных вариантов, и их производительность будет более подробно проверена на тестовых данных.\n",
    "\n",
    "При тестировании будем использовать следующие конфигурации моделей:"
   ]
  },
  {
   "cell_type": "code",
   "execution_count": 49,
   "metadata": {},
   "outputs": [
    {
     "data": {
      "text/html": [
       "<style>#sk-container-id-2 {color: black;background-color: white;}#sk-container-id-2 pre{padding: 0;}#sk-container-id-2 div.sk-toggleable {background-color: white;}#sk-container-id-2 label.sk-toggleable__label {cursor: pointer;display: block;width: 100%;margin-bottom: 0;padding: 0.3em;box-sizing: border-box;text-align: center;}#sk-container-id-2 label.sk-toggleable__label-arrow:before {content: \"▸\";float: left;margin-right: 0.25em;color: #696969;}#sk-container-id-2 label.sk-toggleable__label-arrow:hover:before {color: black;}#sk-container-id-2 div.sk-estimator:hover label.sk-toggleable__label-arrow:before {color: black;}#sk-container-id-2 div.sk-toggleable__content {max-height: 0;max-width: 0;overflow: hidden;text-align: left;background-color: #f0f8ff;}#sk-container-id-2 div.sk-toggleable__content pre {margin: 0.2em;color: black;border-radius: 0.25em;background-color: #f0f8ff;}#sk-container-id-2 input.sk-toggleable__control:checked~div.sk-toggleable__content {max-height: 200px;max-width: 100%;overflow: auto;}#sk-container-id-2 input.sk-toggleable__control:checked~label.sk-toggleable__label-arrow:before {content: \"▾\";}#sk-container-id-2 div.sk-estimator input.sk-toggleable__control:checked~label.sk-toggleable__label {background-color: #d4ebff;}#sk-container-id-2 div.sk-label input.sk-toggleable__control:checked~label.sk-toggleable__label {background-color: #d4ebff;}#sk-container-id-2 input.sk-hidden--visually {border: 0;clip: rect(1px 1px 1px 1px);clip: rect(1px, 1px, 1px, 1px);height: 1px;margin: -1px;overflow: hidden;padding: 0;position: absolute;width: 1px;}#sk-container-id-2 div.sk-estimator {font-family: monospace;background-color: #f0f8ff;border: 1px dotted black;border-radius: 0.25em;box-sizing: border-box;margin-bottom: 0.5em;}#sk-container-id-2 div.sk-estimator:hover {background-color: #d4ebff;}#sk-container-id-2 div.sk-parallel-item::after {content: \"\";width: 100%;border-bottom: 1px solid gray;flex-grow: 1;}#sk-container-id-2 div.sk-label:hover label.sk-toggleable__label {background-color: #d4ebff;}#sk-container-id-2 div.sk-serial::before {content: \"\";position: absolute;border-left: 1px solid gray;box-sizing: border-box;top: 0;bottom: 0;left: 50%;z-index: 0;}#sk-container-id-2 div.sk-serial {display: flex;flex-direction: column;align-items: center;background-color: white;padding-right: 0.2em;padding-left: 0.2em;position: relative;}#sk-container-id-2 div.sk-item {position: relative;z-index: 1;}#sk-container-id-2 div.sk-parallel {display: flex;align-items: stretch;justify-content: center;background-color: white;position: relative;}#sk-container-id-2 div.sk-item::before, #sk-container-id-2 div.sk-parallel-item::before {content: \"\";position: absolute;border-left: 1px solid gray;box-sizing: border-box;top: 0;bottom: 0;left: 50%;z-index: -1;}#sk-container-id-2 div.sk-parallel-item {display: flex;flex-direction: column;z-index: 1;position: relative;background-color: white;}#sk-container-id-2 div.sk-parallel-item:first-child::after {align-self: flex-end;width: 50%;}#sk-container-id-2 div.sk-parallel-item:last-child::after {align-self: flex-start;width: 50%;}#sk-container-id-2 div.sk-parallel-item:only-child::after {width: 0;}#sk-container-id-2 div.sk-dashed-wrapped {border: 1px dashed gray;margin: 0 0.4em 0.5em 0.4em;box-sizing: border-box;padding-bottom: 0.4em;background-color: white;}#sk-container-id-2 div.sk-label label {font-family: monospace;font-weight: bold;display: inline-block;line-height: 1.2em;}#sk-container-id-2 div.sk-label-container {text-align: center;}#sk-container-id-2 div.sk-container {/* jupyter's `normalize.less` sets `[hidden] { display: none; }` but bootstrap.min.css set `[hidden] { display: none !important; }` so we also need the `!important` here to be able to override the default hidden behavior on the sphinx rendered scikit-learn.org. See: https://github.com/scikit-learn/scikit-learn/issues/21755 */display: inline-block !important;position: relative;}#sk-container-id-2 div.sk-text-repr-fallback {display: none;}</style><div id=\"sk-container-id-2\" class=\"sk-top-container\"><div class=\"sk-text-repr-fallback\"><pre>RandomForestClassifier(class_weight=&#x27;balanced&#x27;, max_depth=13,\n",
       "                       min_samples_leaf=5, n_estimators=90, random_state=42)</pre><b>In a Jupyter environment, please rerun this cell to show the HTML representation or trust the notebook. <br />On GitHub, the HTML representation is unable to render, please try loading this page with nbviewer.org.</b></div><div class=\"sk-container\" hidden><div class=\"sk-item\"><div class=\"sk-estimator sk-toggleable\"><input class=\"sk-toggleable__control sk-hidden--visually\" id=\"sk-estimator-id-12\" type=\"checkbox\" checked><label for=\"sk-estimator-id-12\" class=\"sk-toggleable__label sk-toggleable__label-arrow\">RandomForestClassifier</label><div class=\"sk-toggleable__content\"><pre>RandomForestClassifier(class_weight=&#x27;balanced&#x27;, max_depth=13,\n",
       "                       min_samples_leaf=5, n_estimators=90, random_state=42)</pre></div></div></div></div></div>"
      ],
      "text/plain": [
       "RandomForestClassifier(class_weight='balanced', max_depth=13,\n",
       "                       min_samples_leaf=5, n_estimators=90, random_state=42)"
      ]
     },
     "execution_count": 49,
     "metadata": {},
     "output_type": "execute_result"
    }
   ],
   "source": [
    "model_rfc_41"
   ]
  },
  {
   "cell_type": "code",
   "execution_count": 50,
   "metadata": {},
   "outputs": [
    {
     "data": {
      "text/html": [
       "<style>#sk-container-id-3 {color: black;background-color: white;}#sk-container-id-3 pre{padding: 0;}#sk-container-id-3 div.sk-toggleable {background-color: white;}#sk-container-id-3 label.sk-toggleable__label {cursor: pointer;display: block;width: 100%;margin-bottom: 0;padding: 0.3em;box-sizing: border-box;text-align: center;}#sk-container-id-3 label.sk-toggleable__label-arrow:before {content: \"▸\";float: left;margin-right: 0.25em;color: #696969;}#sk-container-id-3 label.sk-toggleable__label-arrow:hover:before {color: black;}#sk-container-id-3 div.sk-estimator:hover label.sk-toggleable__label-arrow:before {color: black;}#sk-container-id-3 div.sk-toggleable__content {max-height: 0;max-width: 0;overflow: hidden;text-align: left;background-color: #f0f8ff;}#sk-container-id-3 div.sk-toggleable__content pre {margin: 0.2em;color: black;border-radius: 0.25em;background-color: #f0f8ff;}#sk-container-id-3 input.sk-toggleable__control:checked~div.sk-toggleable__content {max-height: 200px;max-width: 100%;overflow: auto;}#sk-container-id-3 input.sk-toggleable__control:checked~label.sk-toggleable__label-arrow:before {content: \"▾\";}#sk-container-id-3 div.sk-estimator input.sk-toggleable__control:checked~label.sk-toggleable__label {background-color: #d4ebff;}#sk-container-id-3 div.sk-label input.sk-toggleable__control:checked~label.sk-toggleable__label {background-color: #d4ebff;}#sk-container-id-3 input.sk-hidden--visually {border: 0;clip: rect(1px 1px 1px 1px);clip: rect(1px, 1px, 1px, 1px);height: 1px;margin: -1px;overflow: hidden;padding: 0;position: absolute;width: 1px;}#sk-container-id-3 div.sk-estimator {font-family: monospace;background-color: #f0f8ff;border: 1px dotted black;border-radius: 0.25em;box-sizing: border-box;margin-bottom: 0.5em;}#sk-container-id-3 div.sk-estimator:hover {background-color: #d4ebff;}#sk-container-id-3 div.sk-parallel-item::after {content: \"\";width: 100%;border-bottom: 1px solid gray;flex-grow: 1;}#sk-container-id-3 div.sk-label:hover label.sk-toggleable__label {background-color: #d4ebff;}#sk-container-id-3 div.sk-serial::before {content: \"\";position: absolute;border-left: 1px solid gray;box-sizing: border-box;top: 0;bottom: 0;left: 50%;z-index: 0;}#sk-container-id-3 div.sk-serial {display: flex;flex-direction: column;align-items: center;background-color: white;padding-right: 0.2em;padding-left: 0.2em;position: relative;}#sk-container-id-3 div.sk-item {position: relative;z-index: 1;}#sk-container-id-3 div.sk-parallel {display: flex;align-items: stretch;justify-content: center;background-color: white;position: relative;}#sk-container-id-3 div.sk-item::before, #sk-container-id-3 div.sk-parallel-item::before {content: \"\";position: absolute;border-left: 1px solid gray;box-sizing: border-box;top: 0;bottom: 0;left: 50%;z-index: -1;}#sk-container-id-3 div.sk-parallel-item {display: flex;flex-direction: column;z-index: 1;position: relative;background-color: white;}#sk-container-id-3 div.sk-parallel-item:first-child::after {align-self: flex-end;width: 50%;}#sk-container-id-3 div.sk-parallel-item:last-child::after {align-self: flex-start;width: 50%;}#sk-container-id-3 div.sk-parallel-item:only-child::after {width: 0;}#sk-container-id-3 div.sk-dashed-wrapped {border: 1px dashed gray;margin: 0 0.4em 0.5em 0.4em;box-sizing: border-box;padding-bottom: 0.4em;background-color: white;}#sk-container-id-3 div.sk-label label {font-family: monospace;font-weight: bold;display: inline-block;line-height: 1.2em;}#sk-container-id-3 div.sk-label-container {text-align: center;}#sk-container-id-3 div.sk-container {/* jupyter's `normalize.less` sets `[hidden] { display: none; }` but bootstrap.min.css set `[hidden] { display: none !important; }` so we also need the `!important` here to be able to override the default hidden behavior on the sphinx rendered scikit-learn.org. See: https://github.com/scikit-learn/scikit-learn/issues/21755 */display: inline-block !important;position: relative;}#sk-container-id-3 div.sk-text-repr-fallback {display: none;}</style><div id=\"sk-container-id-3\" class=\"sk-top-container\"><div class=\"sk-text-repr-fallback\"><pre>RandomForestClassifier(criterion=&#x27;entropy&#x27;, max_depth=13, min_samples_leaf=5,\n",
       "                       n_estimators=70, random_state=42)</pre><b>In a Jupyter environment, please rerun this cell to show the HTML representation or trust the notebook. <br />On GitHub, the HTML representation is unable to render, please try loading this page with nbviewer.org.</b></div><div class=\"sk-container\" hidden><div class=\"sk-item\"><div class=\"sk-estimator sk-toggleable\"><input class=\"sk-toggleable__control sk-hidden--visually\" id=\"sk-estimator-id-13\" type=\"checkbox\" checked><label for=\"sk-estimator-id-13\" class=\"sk-toggleable__label sk-toggleable__label-arrow\">RandomForestClassifier</label><div class=\"sk-toggleable__content\"><pre>RandomForestClassifier(criterion=&#x27;entropy&#x27;, max_depth=13, min_samples_leaf=5,\n",
       "                       n_estimators=70, random_state=42)</pre></div></div></div></div></div>"
      ],
      "text/plain": [
       "RandomForestClassifier(criterion='entropy', max_depth=13, min_samples_leaf=5,\n",
       "                       n_estimators=70, random_state=42)"
      ]
     },
     "execution_count": 50,
     "metadata": {},
     "output_type": "execute_result"
    }
   ],
   "source": [
    "model_rfc_42_new"
   ]
  },
  {
   "cell_type": "code",
   "execution_count": 51,
   "metadata": {},
   "outputs": [
    {
     "data": {
      "text/html": [
       "<style>#sk-container-id-4 {color: black;background-color: white;}#sk-container-id-4 pre{padding: 0;}#sk-container-id-4 div.sk-toggleable {background-color: white;}#sk-container-id-4 label.sk-toggleable__label {cursor: pointer;display: block;width: 100%;margin-bottom: 0;padding: 0.3em;box-sizing: border-box;text-align: center;}#sk-container-id-4 label.sk-toggleable__label-arrow:before {content: \"▸\";float: left;margin-right: 0.25em;color: #696969;}#sk-container-id-4 label.sk-toggleable__label-arrow:hover:before {color: black;}#sk-container-id-4 div.sk-estimator:hover label.sk-toggleable__label-arrow:before {color: black;}#sk-container-id-4 div.sk-toggleable__content {max-height: 0;max-width: 0;overflow: hidden;text-align: left;background-color: #f0f8ff;}#sk-container-id-4 div.sk-toggleable__content pre {margin: 0.2em;color: black;border-radius: 0.25em;background-color: #f0f8ff;}#sk-container-id-4 input.sk-toggleable__control:checked~div.sk-toggleable__content {max-height: 200px;max-width: 100%;overflow: auto;}#sk-container-id-4 input.sk-toggleable__control:checked~label.sk-toggleable__label-arrow:before {content: \"▾\";}#sk-container-id-4 div.sk-estimator input.sk-toggleable__control:checked~label.sk-toggleable__label {background-color: #d4ebff;}#sk-container-id-4 div.sk-label input.sk-toggleable__control:checked~label.sk-toggleable__label {background-color: #d4ebff;}#sk-container-id-4 input.sk-hidden--visually {border: 0;clip: rect(1px 1px 1px 1px);clip: rect(1px, 1px, 1px, 1px);height: 1px;margin: -1px;overflow: hidden;padding: 0;position: absolute;width: 1px;}#sk-container-id-4 div.sk-estimator {font-family: monospace;background-color: #f0f8ff;border: 1px dotted black;border-radius: 0.25em;box-sizing: border-box;margin-bottom: 0.5em;}#sk-container-id-4 div.sk-estimator:hover {background-color: #d4ebff;}#sk-container-id-4 div.sk-parallel-item::after {content: \"\";width: 100%;border-bottom: 1px solid gray;flex-grow: 1;}#sk-container-id-4 div.sk-label:hover label.sk-toggleable__label {background-color: #d4ebff;}#sk-container-id-4 div.sk-serial::before {content: \"\";position: absolute;border-left: 1px solid gray;box-sizing: border-box;top: 0;bottom: 0;left: 50%;z-index: 0;}#sk-container-id-4 div.sk-serial {display: flex;flex-direction: column;align-items: center;background-color: white;padding-right: 0.2em;padding-left: 0.2em;position: relative;}#sk-container-id-4 div.sk-item {position: relative;z-index: 1;}#sk-container-id-4 div.sk-parallel {display: flex;align-items: stretch;justify-content: center;background-color: white;position: relative;}#sk-container-id-4 div.sk-item::before, #sk-container-id-4 div.sk-parallel-item::before {content: \"\";position: absolute;border-left: 1px solid gray;box-sizing: border-box;top: 0;bottom: 0;left: 50%;z-index: -1;}#sk-container-id-4 div.sk-parallel-item {display: flex;flex-direction: column;z-index: 1;position: relative;background-color: white;}#sk-container-id-4 div.sk-parallel-item:first-child::after {align-self: flex-end;width: 50%;}#sk-container-id-4 div.sk-parallel-item:last-child::after {align-self: flex-start;width: 50%;}#sk-container-id-4 div.sk-parallel-item:only-child::after {width: 0;}#sk-container-id-4 div.sk-dashed-wrapped {border: 1px dashed gray;margin: 0 0.4em 0.5em 0.4em;box-sizing: border-box;padding-bottom: 0.4em;background-color: white;}#sk-container-id-4 div.sk-label label {font-family: monospace;font-weight: bold;display: inline-block;line-height: 1.2em;}#sk-container-id-4 div.sk-label-container {text-align: center;}#sk-container-id-4 div.sk-container {/* jupyter's `normalize.less` sets `[hidden] { display: none; }` but bootstrap.min.css set `[hidden] { display: none !important; }` so we also need the `!important` here to be able to override the default hidden behavior on the sphinx rendered scikit-learn.org. See: https://github.com/scikit-learn/scikit-learn/issues/21755 */display: inline-block !important;position: relative;}#sk-container-id-4 div.sk-text-repr-fallback {display: none;}</style><div id=\"sk-container-id-4\" class=\"sk-top-container\"><div class=\"sk-text-repr-fallback\"><pre>GradientBoostingClassifier(n_estimators=150, random_state=42)</pre><b>In a Jupyter environment, please rerun this cell to show the HTML representation or trust the notebook. <br />On GitHub, the HTML representation is unable to render, please try loading this page with nbviewer.org.</b></div><div class=\"sk-container\" hidden><div class=\"sk-item\"><div class=\"sk-estimator sk-toggleable\"><input class=\"sk-toggleable__control sk-hidden--visually\" id=\"sk-estimator-id-14\" type=\"checkbox\" checked><label for=\"sk-estimator-id-14\" class=\"sk-toggleable__label sk-toggleable__label-arrow\">GradientBoostingClassifier</label><div class=\"sk-toggleable__content\"><pre>GradientBoostingClassifier(n_estimators=150, random_state=42)</pre></div></div></div></div></div>"
      ],
      "text/plain": [
       "GradientBoostingClassifier(n_estimators=150, random_state=42)"
      ]
     },
     "execution_count": 51,
     "metadata": {},
     "output_type": "execute_result"
    }
   ],
   "source": [
    "model_gbc_42_new"
   ]
  },
  {
   "cell_type": "markdown",
   "metadata": {},
   "source": [
    "## Тестирование модели."
   ]
  },
  {
   "cell_type": "markdown",
   "metadata": {},
   "source": [
    "Подготовим тестовые выборки, протестируем модели и выберем лучшую модель этого сезона."
   ]
  },
  {
   "cell_type": "code",
   "execution_count": 52,
   "metadata": {},
   "outputs": [],
   "source": [
    "churn_features_test = churn_strat_test_set.drop(['Exited'], axis=1).reset_index(drop=True)\n",
    "churn_target_test = churn_strat_test_set['Exited'].reset_index(drop=True)"
   ]
  },
  {
   "cell_type": "code",
   "execution_count": 53,
   "metadata": {},
   "outputs": [],
   "source": [
    "X_test = trans_pipeline.transform(churn_features_test).copy()\n",
    "y_test = churn_target_test.values.copy()"
   ]
  },
  {
   "cell_type": "markdown",
   "metadata": {},
   "source": [
    "### Метрика F1."
   ]
  },
  {
   "cell_type": "code",
   "execution_count": 54,
   "metadata": {
    "scrolled": true
   },
   "outputs": [
    {
     "name": "stdout",
     "output_type": "stream",
     "text": [
      "Значение метрики F1 RandomForestClassifier: 0.753\n",
      "RandomForestClassifier ROC AUC-мера: 0.928\n"
     ]
    }
   ],
   "source": [
    "rfc_41_predicted_test = model_rfc_41.predict(X_test)\n",
    "print(f'Значение метрики F1 RandomForestClassifier: {f1_score(y_test, rfc_41_predicted_test):.3f}')\n",
    "print(f'RandomForestClassifier ROC AUC-мера: {roc_auc_score(y_test, model_rfc_41.predict_proba(X_test)[:, 1]):.3f}')"
   ]
  },
  {
   "cell_type": "code",
   "execution_count": 55,
   "metadata": {
    "scrolled": true
   },
   "outputs": [
    {
     "name": "stdout",
     "output_type": "stream",
     "text": [
      "Значение метрики F1 RandomForestClassifier: 0.705\n",
      "RandomForestClassifier ROC AUC-мера: 0.919\n"
     ]
    }
   ],
   "source": [
    "rfc_42_predicted_test = model_rfc_42_new.predict(X_test)\n",
    "print(f'Значение метрики F1 RandomForestClassifier: {f1_score(y_test, rfc_42_predicted_test):.3f}')\n",
    "print(f'RandomForestClassifier ROC AUC-мера: {roc_auc_score(y_test, model_rfc_42_new.predict_proba(X_test)[:, 1]):.3f}')"
   ]
  },
  {
   "cell_type": "code",
   "execution_count": 56,
   "metadata": {},
   "outputs": [
    {
     "name": "stdout",
     "output_type": "stream",
     "text": [
      "Значение метрики F1 GradientBoostingClassifier: 0.669\n",
      "GradientBoostingClassifier ROC AUC-мера: 0.891\n"
     ]
    }
   ],
   "source": [
    "gbc_42_predicted_test = model_gbc_42_new.predict(X_test)\n",
    "print(f'Значение метрики F1 GradientBoostingClassifier: {f1_score(y_test, gbc_42_predicted_test):.3f}')\n",
    "print(f'GradientBoostingClassifier ROC AUC-мера: {roc_auc_score(y_test, model_gbc_42_new.predict_proba(X_test)[:, 1]):.3f}')"
   ]
  },
  {
   "cell_type": "markdown",
   "metadata": {},
   "source": [
    "Исходя из результатов, которые мы получили, можно сделать промежуточный вывод о высокой производительности оптимизированной модели RandomForestClassifier (class_weight='balanced'), проверенной на CV выборке F1-мерой, равной $0.580$. Эта модель проявила свою способность к обобщению на тестовой выборке, где она достигла значительно более высокого значения F1, равного $0.753$.\n",
    "\n",
    "Это свидетельствует о том, что оптимизация гиперпараметров и применение методов борьбы с дисбалансом классов дало положительные результаты, и модель успешно справляется с задачей предсказания и оценки риска ухода клиентов банка. Значение F1=$0.753$ указывает на высокую точность и полноту предсказаний модели."
   ]
  },
  {
   "cell_type": "markdown",
   "metadata": {},
   "source": [
    "### Confusion Matrix."
   ]
  },
  {
   "cell_type": "markdown",
   "metadata": {},
   "source": [
    "Визуализируем работу модели."
   ]
  },
  {
   "cell_type": "code",
   "execution_count": 57,
   "metadata": {
    "scrolled": true
   },
   "outputs": [
    {
     "data": {
      "image/png": "[encoded data removed]",
      "text/plain": [
       "<Figure size 400x300 with 2 Axes>"
      ]
     },
     "metadata": {},
     "output_type": "display_data"
    }
   ],
   "source": [
    "my_confusion_matrix(model=model_rfc_41, target=y_test, predictions=rfc_41_predicted_test)"
   ]
  },
  {
   "cell_type": "markdown",
   "metadata": {},
   "source": [
    "Исходя из confusion matrix, можно сделать промежуточный вывод о производительности оптимизированной модели RandomForestClassifier на тестовой выборке.\n",
    "\n",
    "Значение $0.74$ в верхнем левом углу матрицы представляет собой долю правильно классифицированных отрицательных случаев (True Negative Rate), что указывает на высокую способность модели правильно определять клиентов, которые не покидают банк.\n",
    "\n",
    "Значение $0.06$ в верхнем правом углу матрицы представляет собой долю неправильно классифицированных отрицательных случаев (False Positive Rate), что означает, что модель иногда неправильно предсказывает, что клиент не уйдет, когда на самом деле он уходит. Это может указывать на некоторую недостаточность модели в обнаружении потенциальных уходов клиентов.\n",
    "\n",
    "Значение $0.04$ в нижнем левом углу матрицы представляет собой долю неправильно классифицированных положительных случаев (False Negative Rate), что указывает на то, что модель иногда неправильно предсказывает, что клиент уйдет, когда на самом деле он остается. Это может указывать на некоторую недостаточность модели в обнаружении клиентов, которые действительно покидают банк.\n",
    "\n",
    "Значение $0.16$ в нижнем правом углу матрицы представляет собой долю правильно классифицированных положительных случаев (True Positive Rate), что указывает на высокую способность модели правильно определять клиентов, которые фактически уходят из банка.\n",
    "\n",
    "В целом, хотя модель RandomForestClassifier имеет высокий показатель True Positive Rate и True Negative Rate, наблюдаются некоторые ошибки в классификации отрицательных случаев. Это может свидетельствовать о потенциальной необходимости дальнейшего улучшения модели, чтобы снизить долю ложно-положительных и ложно-отрицательных предсказаний."
   ]
  },
  {
   "cell_type": "markdown",
   "metadata": {},
   "source": [
    "### ROC и PR кривые. AUC метрики. Sanity test."
   ]
  },
  {
   "cell_type": "markdown",
   "metadata": {},
   "source": [
    "Найдём наилучшую стратегию DummyClassifier для простейшего sanity test."
   ]
  },
  {
   "cell_type": "code",
   "execution_count": 58,
   "metadata": {},
   "outputs": [
    {
     "name": "stdout",
     "output_type": "stream",
     "text": [
      "Лучший гиперпараметр модели DummyClassifier:\n",
      "{\n",
      "    \"strategy\": \"uniform\"\n",
      "}\n"
     ]
    }
   ],
   "source": [
    "param_grid = {'strategy': ['most_frequent', 'prior', 'stratified', 'uniform']}\n",
    "\n",
    "model_dummy = DummyClassifier(random_state=RANDOM_STATE)\n",
    "\n",
    "grid_search_dummy = GridSearchCV(model_dummy, param_grid = param_grid, scoring='f1')\n",
    "grid_search_dummy.fit(X_train, y_train)\n",
    "print(f'Лучший гиперпараметр модели DummyClassifier:\\n{json.dumps(grid_search_dummy.best_params_, indent=4, sort_keys=True)}')"
   ]
  },
  {
   "cell_type": "code",
   "execution_count": 59,
   "metadata": {},
   "outputs": [],
   "source": [
    "dummy = grid_search_dummy.best_estimator_"
   ]
  },
  {
   "cell_type": "code",
   "execution_count": 60,
   "metadata": {},
   "outputs": [
    {
     "data": {
      "text/html": [
       "<style>#sk-container-id-5 {color: black;background-color: white;}#sk-container-id-5 pre{padding: 0;}#sk-container-id-5 div.sk-toggleable {background-color: white;}#sk-container-id-5 label.sk-toggleable__label {cursor: pointer;display: block;width: 100%;margin-bottom: 0;padding: 0.3em;box-sizing: border-box;text-align: center;}#sk-container-id-5 label.sk-toggleable__label-arrow:before {content: \"▸\";float: left;margin-right: 0.25em;color: #696969;}#sk-container-id-5 label.sk-toggleable__label-arrow:hover:before {color: black;}#sk-container-id-5 div.sk-estimator:hover label.sk-toggleable__label-arrow:before {color: black;}#sk-container-id-5 div.sk-toggleable__content {max-height: 0;max-width: 0;overflow: hidden;text-align: left;background-color: #f0f8ff;}#sk-container-id-5 div.sk-toggleable__content pre {margin: 0.2em;color: black;border-radius: 0.25em;background-color: #f0f8ff;}#sk-container-id-5 input.sk-toggleable__control:checked~div.sk-toggleable__content {max-height: 200px;max-width: 100%;overflow: auto;}#sk-container-id-5 input.sk-toggleable__control:checked~label.sk-toggleable__label-arrow:before {content: \"▾\";}#sk-container-id-5 div.sk-estimator input.sk-toggleable__control:checked~label.sk-toggleable__label {background-color: #d4ebff;}#sk-container-id-5 div.sk-label input.sk-toggleable__control:checked~label.sk-toggleable__label {background-color: #d4ebff;}#sk-container-id-5 input.sk-hidden--visually {border: 0;clip: rect(1px 1px 1px 1px);clip: rect(1px, 1px, 1px, 1px);height: 1px;margin: -1px;overflow: hidden;padding: 0;position: absolute;width: 1px;}#sk-container-id-5 div.sk-estimator {font-family: monospace;background-color: #f0f8ff;border: 1px dotted black;border-radius: 0.25em;box-sizing: border-box;margin-bottom: 0.5em;}#sk-container-id-5 div.sk-estimator:hover {background-color: #d4ebff;}#sk-container-id-5 div.sk-parallel-item::after {content: \"\";width: 100%;border-bottom: 1px solid gray;flex-grow: 1;}#sk-container-id-5 div.sk-label:hover label.sk-toggleable__label {background-color: #d4ebff;}#sk-container-id-5 div.sk-serial::before {content: \"\";position: absolute;border-left: 1px solid gray;box-sizing: border-box;top: 0;bottom: 0;left: 50%;z-index: 0;}#sk-container-id-5 div.sk-serial {display: flex;flex-direction: column;align-items: center;background-color: white;padding-right: 0.2em;padding-left: 0.2em;position: relative;}#sk-container-id-5 div.sk-item {position: relative;z-index: 1;}#sk-container-id-5 div.sk-parallel {display: flex;align-items: stretch;justify-content: center;background-color: white;position: relative;}#sk-container-id-5 div.sk-item::before, #sk-container-id-5 div.sk-parallel-item::before {content: \"\";position: absolute;border-left: 1px solid gray;box-sizing: border-box;top: 0;bottom: 0;left: 50%;z-index: -1;}#sk-container-id-5 div.sk-parallel-item {display: flex;flex-direction: column;z-index: 1;position: relative;background-color: white;}#sk-container-id-5 div.sk-parallel-item:first-child::after {align-self: flex-end;width: 50%;}#sk-container-id-5 div.sk-parallel-item:last-child::after {align-self: flex-start;width: 50%;}#sk-container-id-5 div.sk-parallel-item:only-child::after {width: 0;}#sk-container-id-5 div.sk-dashed-wrapped {border: 1px dashed gray;margin: 0 0.4em 0.5em 0.4em;box-sizing: border-box;padding-bottom: 0.4em;background-color: white;}#sk-container-id-5 div.sk-label label {font-family: monospace;font-weight: bold;display: inline-block;line-height: 1.2em;}#sk-container-id-5 div.sk-label-container {text-align: center;}#sk-container-id-5 div.sk-container {/* jupyter's `normalize.less` sets `[hidden] { display: none; }` but bootstrap.min.css set `[hidden] { display: none !important; }` so we also need the `!important` here to be able to override the default hidden behavior on the sphinx rendered scikit-learn.org. See: https://github.com/scikit-learn/scikit-learn/issues/21755 */display: inline-block !important;position: relative;}#sk-container-id-5 div.sk-text-repr-fallback {display: none;}</style><div id=\"sk-container-id-5\" class=\"sk-top-container\"><div class=\"sk-text-repr-fallback\"><pre>DummyClassifier(constant=1, strategy=&#x27;constant&#x27;)</pre><b>In a Jupyter environment, please rerun this cell to show the HTML representation or trust the notebook. <br />On GitHub, the HTML representation is unable to render, please try loading this page with nbviewer.org.</b></div><div class=\"sk-container\" hidden><div class=\"sk-item\"><div class=\"sk-estimator sk-toggleable\"><input class=\"sk-toggleable__control sk-hidden--visually\" id=\"sk-estimator-id-15\" type=\"checkbox\" checked><label for=\"sk-estimator-id-15\" class=\"sk-toggleable__label sk-toggleable__label-arrow\">DummyClassifier</label><div class=\"sk-toggleable__content\"><pre>DummyClassifier(constant=1, strategy=&#x27;constant&#x27;)</pre></div></div></div></div></div>"
      ],
      "text/plain": [
       "DummyClassifier(constant=1, strategy='constant')"
      ]
     },
     "execution_count": 60,
     "metadata": {},
     "output_type": "execute_result"
    }
   ],
   "source": [
    "dummy_const = DummyClassifier(strategy='constant', constant=1)\n",
    "dummy_const.fit(X_train, y_train)"
   ]
  },
  {
   "cell_type": "code",
   "execution_count": 61,
   "metadata": {},
   "outputs": [
    {
     "name": "stdout",
     "output_type": "stream",
     "text": [
      "F1-мера: 0.293\n",
      "AUC-мера: 0.500\n"
     ]
    }
   ],
   "source": [
    "print(f'F1-мера: {f1_score(dummy.predict(X_test), y_test):.3f}')\n",
    "print(f'AUC-мера: {roc_auc_score(y_test, dummy.predict_proba(X_test)[:, 1]):.3f}')"
   ]
  },
  {
   "cell_type": "code",
   "execution_count": 62,
   "metadata": {},
   "outputs": [
    {
     "name": "stdout",
     "output_type": "stream",
     "text": [
      "F1-мера: 0.338\n",
      "AUC-мера: 0.500\n"
     ]
    }
   ],
   "source": [
    "print(f'F1-мера: {f1_score(dummy_const.predict(X_test), y_test):.3f}')\n",
    "print(f'AUC-мера: {roc_auc_score(y_test, dummy_const.predict_proba(X_test)[:, 1]):.3f}')"
   ]
  },
  {
   "cell_type": "markdown",
   "metadata": {},
   "source": [
    "Константный DummyClassifier подходит для наших целей лучше."
   ]
  },
  {
   "cell_type": "code",
   "execution_count": 63,
   "metadata": {
    "scrolled": false
   },
   "outputs": [
    {
     "data": {
      "image/png": "[encoded data removed]",
      "text/plain": [
       "<Figure size 1200x500 with 2 Axes>"
      ]
     },
     "metadata": {},
     "output_type": "display_data"
    }
   ],
   "source": [
    "my_analyze_classification_performance(model=model_rfc_41, dummy=dummy_const, target=y_test, features=X_test)"
   ]
  },
  {
   "cell_type": "markdown",
   "metadata": {},
   "source": [
    "Значение ROC AUC (Receiver Operating Characteristic Area Under the Curve) равное $0.928$ указывает на высокую производительность модели RandomForestClassifier в разделении классов и способность модели правильно классифицировать примеры с разными пороговыми значениями. Чем ближе значение ROC AUC к $1$, тем лучше модель разделяет положительные и отрицательные классы. В данном случае, значение $0.928$ говорит о том, что модель имеет хорошую разделяющую способность и высокую общую производительность.\n",
    "\n",
    "Значение Precision-Recall AUC (Area Under the Precision-Recall Curve) равное $0.819$ отражает точность и полноту предсказаний модели RandomForestClassifier. Precision-Recall AUC учитывает баланс между точностью (способностью модели правильно классифицировать положительные примеры) и полнотой (способностью модели обнаруживать все положительные примеры). Чем ближе значение Precision-Recall AUC к $1$, тем лучше модель балансирует точность и полноту. В данном случае, значение $0.819$ указывает на хороший баланс между точностью и полнотой предсказаний модели."
   ]
  },
  {
   "cell_type": "markdown",
   "metadata": {},
   "source": [
    "Сравнение модели RandomForestClassifier с DummyClassifier, использующим стратегию uniform, дает ясное представление о значимости и эффективности RandomForestClassifier.\n",
    "\n",
    "Значение ROC AUC, равное $0.5$, для DummyClassifier говорит о том, что эта модель не обладает способностью разделять классы и делает случайные предсказания. Следовательно, ее производительность в предсказании риска ухода клиентов банка совершенно случайна и недостаточно информативна для принятия важных решений.\n",
    "\n",
    "Значение Precision-Recall AUC, равное $0.203$, также указывает на низкую точность и полноту предсказаний DummyClassifier. Это подтверждает, что модель uniform не может надежно классифицировать и отличать между ушедшими и оставшимися клиентами банка.\n",
    "\n",
    "В сравнении с DummyClassifier, RandomForestClassifier демонстрирует гораздо лучшие результаты. Значение ROC AUC, равное $0.928$, говорит о высокой способности модели правильно разделять классы и предсказывать риск ухода клиентов банка. Значение Precision-Recall AUC, равное $0.819$, указывает на высокую точность и полноту предсказаний модели RandomForestClassifier.\n",
    "\n",
    "Таким образом, RandomForestClassifier превосходит DummyClassifier с моделью uniform как по значениям ROC AUC, так и по Precision-Recall AUC. Это подтверждает, что RandomForestClassifier является значительно более эффективной и информативной моделью для оценки риска ухода клиентов банка, и его предсказания имеют большую практическую ценность при принятии решений и разработке стратегий удержания клиентов."
   ]
  },
  {
   "cell_type": "markdown",
   "metadata": {},
   "source": [
    "### Наиболее значимые признаки."
   ]
  },
  {
   "cell_type": "code",
   "execution_count": 64,
   "metadata": {
    "scrolled": false
   },
   "outputs": [
    {
     "data": {
      "text/html": [
       "<style  type=\"text/css\" >\n",
       "</style><table id=\"T_a93f3_\" ><thead>    <tr>        <th class=\"col_heading level0 col0\" >Значимость признака</th>        <th class=\"col_heading level0 col1\" >Признак</th>        <th class=\"col_heading level0 col2\" >Влияние на вероятность ухода клиента</th>    </tr></thead><tbody>\n",
       "                <tr>\n",
       "                                <td id=\"T_a93f3_row0_col0\" class=\"data row0 col0\" >0.318267</td>\n",
       "                        <td id=\"T_a93f3_row0_col1\" class=\"data row0 col1\" >Age</td>\n",
       "                        <td id=\"T_a93f3_row0_col2\" class=\"data row0 col2\" >Увеличивает вероятность</td>\n",
       "            </tr>\n",
       "            <tr>\n",
       "                                <td id=\"T_a93f3_row1_col0\" class=\"data row1 col0\" >0.186972</td>\n",
       "                        <td id=\"T_a93f3_row1_col1\" class=\"data row1 col1\" >NumOfProducts</td>\n",
       "                        <td id=\"T_a93f3_row1_col2\" class=\"data row1 col2\" >Уменьшает вероятность</td>\n",
       "            </tr>\n",
       "            <tr>\n",
       "                                <td id=\"T_a93f3_row2_col0\" class=\"data row2 col0\" >0.124323</td>\n",
       "                        <td id=\"T_a93f3_row2_col1\" class=\"data row2 col1\" >Balance</td>\n",
       "                        <td id=\"T_a93f3_row2_col2\" class=\"data row2 col2\" >Увеличивает вероятность</td>\n",
       "            </tr>\n",
       "            <tr>\n",
       "                                <td id=\"T_a93f3_row3_col0\" class=\"data row3 col0\" >0.091363</td>\n",
       "                        <td id=\"T_a93f3_row3_col1\" class=\"data row3 col1\" >EstimatedSalary</td>\n",
       "                        <td id=\"T_a93f3_row3_col2\" class=\"data row3 col2\" >Уменьшает вероятность</td>\n",
       "            </tr>\n",
       "            <tr>\n",
       "                                <td id=\"T_a93f3_row4_col0\" class=\"data row4 col0\" >0.088141</td>\n",
       "                        <td id=\"T_a93f3_row4_col1\" class=\"data row4 col1\" >CreditScore</td>\n",
       "                        <td id=\"T_a93f3_row4_col2\" class=\"data row4 col2\" >Увеличивает вероятность</td>\n",
       "            </tr>\n",
       "            <tr>\n",
       "                                <td id=\"T_a93f3_row5_col0\" class=\"data row5 col0\" >0.054797</td>\n",
       "                        <td id=\"T_a93f3_row5_col1\" class=\"data row5 col1\" >IsActiveMember</td>\n",
       "                        <td id=\"T_a93f3_row5_col2\" class=\"data row5 col2\" >Уменьшает вероятность</td>\n",
       "            </tr>\n",
       "    </tbody></table>"
      ],
      "text/plain": [
       "<pandas.io.formats.style.Styler at 0x1eb1b163100>"
      ]
     },
     "execution_count": 64,
     "metadata": {},
     "output_type": "execute_result"
    }
   ],
   "source": [
    "correlation_matrix = churn_strat_test_set.corr()\n",
    "target_correlation = correlation_matrix['Exited']\n",
    "positive_features = target_correlation[target_correlation > 0].index.tolist()\n",
    "\n",
    "importance = model_rfc_41.feature_importances_\n",
    "\n",
    "sorted_features = sorted(zip(importance, columns_prepared), reverse=True)\n",
    "    \n",
    "results = []\n",
    "\n",
    "for importance, feature in sorted_features:\n",
    "    direction = 'Увеличивает вероятность' if feature in positive_features else 'Уменьшает вероятность'\n",
    "    results.append({'Значимость признака': importance, 'Признак': feature, 'Влияние на вероятность ухода клиента': direction})\n",
    "\n",
    "results_df = pd.DataFrame(results)\n",
    "results_df.iloc[:6].style.hide_index()"
   ]
  },
  {
   "cell_type": "markdown",
   "metadata": {},
   "source": [
    "После проведения анализа данных, мы вывели список наиболее значимых признаков, которые оказывают положительное или отрицательное влияние на целевой класс, то есть на риск ухода клиентов из банка.\n",
    "\n",
    "Положительное влияние на целевой класс (уход клиентов) оказывают следующие признаки:\n",
    "\n",
    "1. Age (Возраст): Более старшие клиенты имеют большую вероятность ухода из банка.\n",
    "2. Balance (Баланс): Клиенты с более высоким балансом имеют большую вероятность ухода из банка.\n",
    "3. CreditScore (Кредитный рейтинг): Клиенты с более высоким кредитным рейтингом более склонны к уходу.\n",
    "\n",
    "Отрицательное влияние на целевой класс (оставшись клиенты) оказывают следующие признаки:\n",
    "\n",
    "1. NumOfProducts (Количество продуктов): Клиенты с большим количеством продуктов менее склонны к уходу.\n",
    "2. EstimatedSalary (Примерная зарплата): Клиенты с более высокой примерной зарплатой имеют меньше шансов покинуть банк.\n",
    "3. IsActiveMember (Активность участника): Активные клиенты имеют меньше шансов уйти из банка.\n",
    "\n",
    "Эти признаки позволяют нам лучше понять факторы, влияющие на риск ухода клиентов из банка. Наличие такой информации позволяет банку принимать более обоснованные решения и разрабатывать эффективные стратегии для удержания клиентов."
   ]
  },
  {
   "cell_type": "markdown",
   "metadata": {},
   "source": [
    "## Общий вывод."
   ]
  },
  {
   "cell_type": "markdown",
   "metadata": {},
   "source": [
    "В ходе выполнения данной работы, мы провели оценку риска ухода клиентов банка. Ниже представлен общий вывод, основанный на результате анализа данных и применении различных моделей машинного обучения:\n",
    "\n",
    "1. При обработке данных были применены различные методы, включая индексацию в нижний регистр, удаление ненужных столбцов и трансформацию категориальных признаков методом onehot-dense. Пропуски в столбце \"Tenure\" были заменены наиболее оптимальным числом при помощи SimpleImputer. Для масштабирования данных использовался StandardScaler.\n",
    "\n",
    "2. Исследование задачи оценки риска ухода клиентов было выполнено на нескольких моделях, включая DecisionTreeClassifier, RandomForestClassifier и GradientBoostingClassifier. Вначале были получены результаты без учета дисбаланса классов, которые показали схожие значения метрики F1 в диапазоне $0.575-0.598$.\n",
    "\n",
    "3. Далее были применены три способа борьбы с дисбалансом классов: использование параметра class_weight: 'balanced' в моделях, upsampling и downsampling. class_weight: 'balanced' показал низкий результат, в то время как upsampling привел к значительному улучшению метрики F1 на модели GradientBoostingClassifier до значения $0.624$, превышающего установленный минимальный уровень в $0.590$. Использование downsampling также привело улучшению результатов до F1 равной $0.600$ на RandomForestClassifier.\n",
    "\n",
    "4. После проведения итогового тестирования моделей RandomForestClassifier и GradientBoostingClassifier, было получено значение метрики F1 равное $0.753$ на тестовой выборке для модели GradientBoostingClassifier (class_weight: 'balanced'). Это подтверждает высокую производительность и качество модели в оценке риска ухода клиентов.\n",
    "\n",
    "5. Кроме того, были проведены анализы матрицы ошибок, ROC AUC и Precision-Recall AUC. Модель RandomForestClassifier показала отличные результаты, превышая значения DummyClassifier, и обладает способностью правильно классифицировать и разделять классы. Значение ROC AUC равное $0.928$ указывает на высокую разделяющую способность модели, а значение Precision-Recall AUC равное $0.819$ подтверждает высокую точность и полноту предсказаний.\n",
    "\n",
    "6. Важными признаками, оказывающими влияние на риск ухода клиентов, были выделены: возраст, количество продуктов, активность участника, баланс, кредитный рейтинг и примерная зарплата. Эти признаки позволяют лучше понять факторы, влияющие на уход клиентов и разработать соответствующие стратегии удержания.\n",
    "\n",
    "Итак, на основе проведенной работы мы успешно оценили риск ухода клиентов банка. Модель RandomForestClassifier с применением борьбы с дисбалансом классов и оптимальными гиперпараметрами показала высокую производительность с F1=$0.753$, превышая значительно DummyClassifier. Такие результаты позволяют банку принимать более обоснованные решения, разрабатывать эффективные стратегии удержания клиентов и снижать риски потери клиентской базы."
   ]
  },
  {
   "cell_type": "markdown",
   "metadata": {},
   "source": [
    "<b>Модель сезона:</b>"
   ]
  },
  {
   "cell_type": "code",
   "execution_count": 65,
   "metadata": {},
   "outputs": [
    {
     "data": {
      "text/html": [
       "<style>#sk-container-id-6 {color: black;background-color: white;}#sk-container-id-6 pre{padding: 0;}#sk-container-id-6 div.sk-toggleable {background-color: white;}#sk-container-id-6 label.sk-toggleable__label {cursor: pointer;display: block;width: 100%;margin-bottom: 0;padding: 0.3em;box-sizing: border-box;text-align: center;}#sk-container-id-6 label.sk-toggleable__label-arrow:before {content: \"▸\";float: left;margin-right: 0.25em;color: #696969;}#sk-container-id-6 label.sk-toggleable__label-arrow:hover:before {color: black;}#sk-container-id-6 div.sk-estimator:hover label.sk-toggleable__label-arrow:before {color: black;}#sk-container-id-6 div.sk-toggleable__content {max-height: 0;max-width: 0;overflow: hidden;text-align: left;background-color: #f0f8ff;}#sk-container-id-6 div.sk-toggleable__content pre {margin: 0.2em;color: black;border-radius: 0.25em;background-color: #f0f8ff;}#sk-container-id-6 input.sk-toggleable__control:checked~div.sk-toggleable__content {max-height: 200px;max-width: 100%;overflow: auto;}#sk-container-id-6 input.sk-toggleable__control:checked~label.sk-toggleable__label-arrow:before {content: \"▾\";}#sk-container-id-6 div.sk-estimator input.sk-toggleable__control:checked~label.sk-toggleable__label {background-color: #d4ebff;}#sk-container-id-6 div.sk-label input.sk-toggleable__control:checked~label.sk-toggleable__label {background-color: #d4ebff;}#sk-container-id-6 input.sk-hidden--visually {border: 0;clip: rect(1px 1px 1px 1px);clip: rect(1px, 1px, 1px, 1px);height: 1px;margin: -1px;overflow: hidden;padding: 0;position: absolute;width: 1px;}#sk-container-id-6 div.sk-estimator {font-family: monospace;background-color: #f0f8ff;border: 1px dotted black;border-radius: 0.25em;box-sizing: border-box;margin-bottom: 0.5em;}#sk-container-id-6 div.sk-estimator:hover {background-color: #d4ebff;}#sk-container-id-6 div.sk-parallel-item::after {content: \"\";width: 100%;border-bottom: 1px solid gray;flex-grow: 1;}#sk-container-id-6 div.sk-label:hover label.sk-toggleable__label {background-color: #d4ebff;}#sk-container-id-6 div.sk-serial::before {content: \"\";position: absolute;border-left: 1px solid gray;box-sizing: border-box;top: 0;bottom: 0;left: 50%;z-index: 0;}#sk-container-id-6 div.sk-serial {display: flex;flex-direction: column;align-items: center;background-color: white;padding-right: 0.2em;padding-left: 0.2em;position: relative;}#sk-container-id-6 div.sk-item {position: relative;z-index: 1;}#sk-container-id-6 div.sk-parallel {display: flex;align-items: stretch;justify-content: center;background-color: white;position: relative;}#sk-container-id-6 div.sk-item::before, #sk-container-id-6 div.sk-parallel-item::before {content: \"\";position: absolute;border-left: 1px solid gray;box-sizing: border-box;top: 0;bottom: 0;left: 50%;z-index: -1;}#sk-container-id-6 div.sk-parallel-item {display: flex;flex-direction: column;z-index: 1;position: relative;background-color: white;}#sk-container-id-6 div.sk-parallel-item:first-child::after {align-self: flex-end;width: 50%;}#sk-container-id-6 div.sk-parallel-item:last-child::after {align-self: flex-start;width: 50%;}#sk-container-id-6 div.sk-parallel-item:only-child::after {width: 0;}#sk-container-id-6 div.sk-dashed-wrapped {border: 1px dashed gray;margin: 0 0.4em 0.5em 0.4em;box-sizing: border-box;padding-bottom: 0.4em;background-color: white;}#sk-container-id-6 div.sk-label label {font-family: monospace;font-weight: bold;display: inline-block;line-height: 1.2em;}#sk-container-id-6 div.sk-label-container {text-align: center;}#sk-container-id-6 div.sk-container {/* jupyter's `normalize.less` sets `[hidden] { display: none; }` but bootstrap.min.css set `[hidden] { display: none !important; }` so we also need the `!important` here to be able to override the default hidden behavior on the sphinx rendered scikit-learn.org. See: https://github.com/scikit-learn/scikit-learn/issues/21755 */display: inline-block !important;position: relative;}#sk-container-id-6 div.sk-text-repr-fallback {display: none;}</style><div id=\"sk-container-id-6\" class=\"sk-top-container\"><div class=\"sk-text-repr-fallback\"><pre>RandomForestClassifier(class_weight=&#x27;balanced&#x27;, max_depth=13,\n",
       "                       min_samples_leaf=5, n_estimators=90, random_state=42)</pre><b>In a Jupyter environment, please rerun this cell to show the HTML representation or trust the notebook. <br />On GitHub, the HTML representation is unable to render, please try loading this page with nbviewer.org.</b></div><div class=\"sk-container\" hidden><div class=\"sk-item\"><div class=\"sk-estimator sk-toggleable\"><input class=\"sk-toggleable__control sk-hidden--visually\" id=\"sk-estimator-id-16\" type=\"checkbox\" checked><label for=\"sk-estimator-id-16\" class=\"sk-toggleable__label sk-toggleable__label-arrow\">RandomForestClassifier</label><div class=\"sk-toggleable__content\"><pre>RandomForestClassifier(class_weight=&#x27;balanced&#x27;, max_depth=13,\n",
       "                       min_samples_leaf=5, n_estimators=90, random_state=42)</pre></div></div></div></div></div>"
      ],
      "text/plain": [
       "RandomForestClassifier(class_weight='balanced', max_depth=13,\n",
       "                       min_samples_leaf=5, n_estimators=90, random_state=42)"
      ]
     },
     "execution_count": 65,
     "metadata": {},
     "output_type": "execute_result"
    }
   ],
   "source": [
    "model_rfc_41"
   ]
  },
  {
   "attachments": {
    "image.png": {
     "image/png": "[encoded data removed]"
    }
   },
   "cell_type": "markdown",
   "metadata": {},
   "source": [
    "![image.png](attachment:image.png)"
   ]
  }
 ],
 "metadata": {
  "ExecuteTimeLog": [
   {
    "duration": 1828,
    "start_time": "2023-05-18T11:52:33.448Z"
   },
   {
    "duration": 3,
    "start_time": "2023-05-18T11:52:35.278Z"
   },
   {
    "duration": 13,
    "start_time": "2023-05-18T11:52:35.283Z"
   },
   {
    "duration": 29,
    "start_time": "2023-05-18T11:52:35.298Z"
   },
   {
    "duration": 22,
    "start_time": "2023-05-18T11:52:35.330Z"
   },
   {
    "duration": 19,
    "start_time": "2023-05-18T11:52:35.354Z"
   },
   {
    "duration": 13,
    "start_time": "2023-05-18T11:52:35.375Z"
   },
   {
    "duration": 46,
    "start_time": "2023-05-18T11:52:35.390Z"
   },
   {
    "duration": 37,
    "start_time": "2023-05-18T11:52:35.438Z"
   },
   {
    "duration": 335,
    "start_time": "2023-05-18T11:52:35.476Z"
   },
   {
    "duration": 12,
    "start_time": "2023-05-18T11:52:35.813Z"
   },
   {
    "duration": 9,
    "start_time": "2023-05-18T11:52:35.826Z"
   },
   {
    "duration": 18,
    "start_time": "2023-05-18T11:52:35.837Z"
   },
   {
    "duration": 19,
    "start_time": "2023-05-18T11:52:35.859Z"
   },
   {
    "duration": 5,
    "start_time": "2023-05-18T11:52:35.880Z"
   },
   {
    "duration": 21,
    "start_time": "2023-05-18T11:52:35.887Z"
   },
   {
    "duration": 17,
    "start_time": "2023-05-18T11:52:35.910Z"
   },
   {
    "duration": 8,
    "start_time": "2023-05-18T11:52:35.929Z"
   },
   {
    "duration": 1426,
    "start_time": "2023-05-18T11:52:35.939Z"
   },
   {
    "duration": 253,
    "start_time": "2023-05-18T11:52:37.367Z"
   },
   {
    "duration": 2037,
    "start_time": "2023-05-18T11:52:37.623Z"
   },
   {
    "duration": 12,
    "start_time": "2023-05-18T11:52:39.662Z"
   },
   {
    "duration": 5,
    "start_time": "2023-05-18T11:52:39.675Z"
   },
   {
    "duration": 45,
    "start_time": "2023-05-18T11:52:39.682Z"
   },
   {
    "duration": 10,
    "start_time": "2023-05-18T11:52:39.729Z"
   },
   {
    "duration": 33477,
    "start_time": "2023-05-18T11:52:39.740Z"
   },
   {
    "duration": 20,
    "start_time": "2023-05-18T11:53:13.221Z"
   },
   {
    "duration": 63,
    "start_time": "2023-05-18T11:53:13.243Z"
   },
   {
    "duration": 34,
    "start_time": "2023-05-18T11:53:13.307Z"
   },
   {
    "duration": 724,
    "start_time": "2023-05-18T11:53:13.342Z"
   },
   {
    "duration": 759,
    "start_time": "2023-05-18T11:53:14.068Z"
   },
   {
    "duration": 62,
    "start_time": "2023-05-18T11:53:14.829Z"
   },
   {
    "duration": 327,
    "start_time": "2023-05-18T11:53:14.893Z"
   },
   {
    "duration": 751,
    "start_time": "2023-05-18T11:53:15.222Z"
   },
   {
    "duration": 60,
    "start_time": "2023-05-18T11:53:15.975Z"
   },
   {
    "duration": 175,
    "start_time": "2023-05-18T11:53:16.037Z"
   },
   {
    "duration": 6,
    "start_time": "2023-05-18T11:53:16.214Z"
   },
   {
    "duration": 7,
    "start_time": "2023-05-18T11:53:16.222Z"
   },
   {
    "duration": 88,
    "start_time": "2023-05-18T11:53:16.231Z"
   },
   {
    "duration": 206,
    "start_time": "2023-05-18T11:53:16.321Z"
   },
   {
    "duration": 185,
    "start_time": "2023-05-18T11:53:16.530Z"
   },
   {
    "duration": 6,
    "start_time": "2023-05-18T11:53:16.717Z"
   },
   {
    "duration": 25,
    "start_time": "2023-05-18T11:53:16.726Z"
   },
   {
    "duration": 259,
    "start_time": "2023-05-18T11:53:16.753Z"
   },
   {
    "duration": 252,
    "start_time": "2023-05-18T11:53:17.013Z"
   },
   {
    "duration": 156,
    "start_time": "2023-05-18T11:53:17.267Z"
   },
   {
    "duration": 4,
    "start_time": "2023-05-18T11:53:17.425Z"
   },
   {
    "duration": 27,
    "start_time": "2023-05-18T11:53:17.431Z"
   },
   {
    "duration": 58,
    "start_time": "2023-05-18T11:53:17.460Z"
   },
   {
    "duration": 382,
    "start_time": "2023-05-18T11:53:17.520Z"
   },
   {
    "duration": 52,
    "start_time": "2023-05-18T11:53:17.904Z"
   },
   {
    "duration": 3,
    "start_time": "2023-05-18T11:53:17.958Z"
   },
   {
    "duration": 492,
    "start_time": "2023-05-18T11:53:17.963Z"
   },
   {
    "duration": 63,
    "start_time": "2023-05-18T11:53:18.456Z"
   },
   {
    "duration": 2184,
    "start_time": "2023-05-18T13:06:35.875Z"
   },
   {
    "duration": 3,
    "start_time": "2023-05-18T13:06:38.062Z"
   },
   {
    "duration": 21,
    "start_time": "2023-05-18T13:06:38.067Z"
   },
   {
    "duration": 18,
    "start_time": "2023-05-18T13:06:38.090Z"
   },
   {
    "duration": 35,
    "start_time": "2023-05-18T13:06:38.110Z"
   },
   {
    "duration": 33,
    "start_time": "2023-05-18T13:06:38.146Z"
   },
   {
    "duration": 15,
    "start_time": "2023-05-18T13:06:38.181Z"
   },
   {
    "duration": 22,
    "start_time": "2023-05-18T13:06:38.198Z"
   },
   {
    "duration": 27,
    "start_time": "2023-05-18T13:06:38.222Z"
   },
   {
    "duration": 539,
    "start_time": "2023-05-18T13:06:38.251Z"
   },
   {
    "duration": 15,
    "start_time": "2023-05-18T13:06:38.792Z"
   },
   {
    "duration": 14,
    "start_time": "2023-05-18T13:06:38.809Z"
   },
   {
    "duration": 29,
    "start_time": "2023-05-18T13:06:38.825Z"
   },
   {
    "duration": 13,
    "start_time": "2023-05-18T13:06:38.861Z"
   },
   {
    "duration": 32,
    "start_time": "2023-05-18T13:06:38.876Z"
   },
   {
    "duration": 29,
    "start_time": "2023-05-18T13:06:38.910Z"
   },
   {
    "duration": 29,
    "start_time": "2023-05-18T13:06:38.942Z"
   },
   {
    "duration": 24,
    "start_time": "2023-05-18T13:06:38.973Z"
   },
   {
    "duration": 1524,
    "start_time": "2023-05-18T13:06:38.999Z"
   },
   {
    "duration": 309,
    "start_time": "2023-05-18T13:06:40.525Z"
   },
   {
    "duration": 2180,
    "start_time": "2023-05-18T13:06:40.841Z"
   },
   {
    "duration": 14,
    "start_time": "2023-05-18T13:06:43.025Z"
   },
   {
    "duration": 6,
    "start_time": "2023-05-18T13:06:43.040Z"
   },
   {
    "duration": 38,
    "start_time": "2023-05-18T13:06:43.047Z"
   },
   {
    "duration": 13,
    "start_time": "2023-05-18T13:06:43.087Z"
   },
   {
    "duration": 40721,
    "start_time": "2023-05-18T13:06:43.125Z"
   },
   {
    "duration": 20,
    "start_time": "2023-05-18T13:07:23.848Z"
   },
   {
    "duration": 41,
    "start_time": "2023-05-18T13:07:23.926Z"
   },
   {
    "duration": 87,
    "start_time": "2023-05-18T13:07:23.969Z"
   },
   {
    "duration": 1767,
    "start_time": "2023-05-18T13:07:24.058Z"
   },
   {
    "duration": 1600,
    "start_time": "2023-05-18T13:07:25.828Z"
   },
   {
    "duration": 9664,
    "start_time": "2023-05-18T13:07:27.430Z"
   },
   {
    "duration": 1106933,
    "start_time": "2023-05-18T13:07:37.097Z"
   },
   {
    "duration": 719799,
    "start_time": "2023-05-18T13:26:04.032Z"
   },
   {
    "duration": 41508,
    "start_time": "2023-05-18T13:38:03.833Z"
   },
   {
    "duration": 1824,
    "start_time": "2023-05-18T13:56:14.441Z"
   },
   {
    "duration": 3,
    "start_time": "2023-05-18T13:56:16.267Z"
   },
   {
    "duration": 9,
    "start_time": "2023-05-18T13:56:16.272Z"
   },
   {
    "duration": 15,
    "start_time": "2023-05-18T13:56:16.283Z"
   },
   {
    "duration": 31,
    "start_time": "2023-05-18T13:56:16.300Z"
   },
   {
    "duration": 14,
    "start_time": "2023-05-18T13:56:16.333Z"
   },
   {
    "duration": 18,
    "start_time": "2023-05-18T13:56:16.348Z"
   },
   {
    "duration": 16,
    "start_time": "2023-05-18T13:56:16.368Z"
   },
   {
    "duration": 16,
    "start_time": "2023-05-18T13:56:16.386Z"
   },
   {
    "duration": 256,
    "start_time": "2023-05-18T13:56:16.405Z"
   },
   {
    "duration": 9,
    "start_time": "2023-05-18T13:56:16.663Z"
   },
   {
    "duration": 8,
    "start_time": "2023-05-18T13:56:16.674Z"
   },
   {
    "duration": 10,
    "start_time": "2023-05-18T13:56:16.683Z"
   },
   {
    "duration": 14,
    "start_time": "2023-05-18T13:56:16.694Z"
   },
   {
    "duration": 6,
    "start_time": "2023-05-18T13:56:16.709Z"
   },
   {
    "duration": 40,
    "start_time": "2023-05-18T13:56:16.716Z"
   },
   {
    "duration": 20,
    "start_time": "2023-05-18T13:56:16.758Z"
   },
   {
    "duration": 13,
    "start_time": "2023-05-18T13:56:16.780Z"
   },
   {
    "duration": 1241,
    "start_time": "2023-05-18T13:56:16.795Z"
   },
   {
    "duration": 393,
    "start_time": "2023-05-18T13:56:18.038Z"
   },
   {
    "duration": 1879,
    "start_time": "2023-05-18T13:56:18.435Z"
   },
   {
    "duration": 16,
    "start_time": "2023-05-18T13:56:20.317Z"
   },
   {
    "duration": 14,
    "start_time": "2023-05-18T13:56:20.335Z"
   },
   {
    "duration": 33,
    "start_time": "2023-05-18T13:56:20.351Z"
   },
   {
    "duration": 11,
    "start_time": "2023-05-18T13:56:20.385Z"
   },
   {
    "duration": 36053,
    "start_time": "2023-05-18T13:56:20.399Z"
   },
   {
    "duration": 14,
    "start_time": "2023-05-18T13:56:56.453Z"
   },
   {
    "duration": 32,
    "start_time": "2023-05-18T13:56:56.471Z"
   },
   {
    "duration": 46,
    "start_time": "2023-05-18T13:56:56.505Z"
   },
   {
    "duration": 786,
    "start_time": "2023-05-18T13:56:56.553Z"
   },
   {
    "duration": 866,
    "start_time": "2023-05-18T13:56:57.340Z"
   },
   {
    "duration": 89,
    "start_time": "2023-05-18T13:56:58.208Z"
   },
   {
    "duration": 411,
    "start_time": "2023-05-18T13:56:58.299Z"
   },
   {
    "duration": 145,
    "start_time": "2023-05-18T13:56:58.711Z"
   },
   {
    "duration": 80,
    "start_time": "2023-05-18T13:56:58.858Z"
   },
   {
    "duration": 193,
    "start_time": "2023-05-18T13:56:58.939Z"
   },
   {
    "duration": 7,
    "start_time": "2023-05-18T13:56:59.136Z"
   },
   {
    "duration": 17,
    "start_time": "2023-05-18T13:56:59.145Z"
   },
   {
    "duration": 73,
    "start_time": "2023-05-18T13:56:59.164Z"
   },
   {
    "duration": 195,
    "start_time": "2023-05-18T13:56:59.238Z"
   },
   {
    "duration": 136,
    "start_time": "2023-05-18T13:56:59.435Z"
   },
   {
    "duration": 6,
    "start_time": "2023-05-18T13:56:59.572Z"
   },
   {
    "duration": 26,
    "start_time": "2023-05-18T13:56:59.580Z"
   },
   {
    "duration": 94,
    "start_time": "2023-05-18T13:56:59.608Z"
   },
   {
    "duration": 159,
    "start_time": "2023-05-18T13:56:59.703Z"
   },
   {
    "duration": 84,
    "start_time": "2023-05-18T13:56:59.864Z"
   },
   {
    "duration": 5,
    "start_time": "2023-05-18T13:56:59.949Z"
   },
   {
    "duration": 13,
    "start_time": "2023-05-18T13:56:59.955Z"
   },
   {
    "duration": 35,
    "start_time": "2023-05-18T13:56:59.970Z"
   },
   {
    "duration": 361,
    "start_time": "2023-05-18T13:57:00.007Z"
   },
   {
    "duration": 66,
    "start_time": "2023-05-18T13:57:00.370Z"
   },
   {
    "duration": 3,
    "start_time": "2023-05-18T13:57:00.440Z"
   },
   {
    "duration": 592,
    "start_time": "2023-05-18T13:57:00.444Z"
   },
   {
    "duration": 55,
    "start_time": "2023-05-18T13:57:01.038Z"
   },
   {
    "duration": 8280,
    "start_time": "2023-05-19T12:55:05.178Z"
   },
   {
    "duration": 3,
    "start_time": "2023-05-19T12:55:13.460Z"
   },
   {
    "duration": 16,
    "start_time": "2023-05-19T12:55:13.464Z"
   },
   {
    "duration": 42,
    "start_time": "2023-05-19T12:55:13.482Z"
   },
   {
    "duration": 23,
    "start_time": "2023-05-19T12:55:13.525Z"
   },
   {
    "duration": 48,
    "start_time": "2023-05-19T12:55:13.550Z"
   },
   {
    "duration": 19,
    "start_time": "2023-05-19T12:55:13.600Z"
   },
   {
    "duration": 38,
    "start_time": "2023-05-19T12:55:13.620Z"
   },
   {
    "duration": 16,
    "start_time": "2023-05-19T12:55:13.660Z"
   },
   {
    "duration": 281,
    "start_time": "2023-05-19T12:55:13.678Z"
   },
   {
    "duration": 11,
    "start_time": "2023-05-19T12:55:13.961Z"
   },
   {
    "duration": 47,
    "start_time": "2023-05-19T12:55:13.973Z"
   },
   {
    "duration": 10,
    "start_time": "2023-05-19T12:55:14.021Z"
   },
   {
    "duration": 43,
    "start_time": "2023-05-19T12:55:14.032Z"
   },
   {
    "duration": 11,
    "start_time": "2023-05-19T12:55:14.076Z"
   },
   {
    "duration": 31,
    "start_time": "2023-05-19T12:55:14.089Z"
   },
   {
    "duration": 22,
    "start_time": "2023-05-19T12:55:14.122Z"
   },
   {
    "duration": 8,
    "start_time": "2023-05-19T12:55:14.145Z"
   },
   {
    "duration": 1264,
    "start_time": "2023-05-19T12:55:14.155Z"
   },
   {
    "duration": 369,
    "start_time": "2023-05-19T12:55:15.421Z"
   },
   {
    "duration": 2045,
    "start_time": "2023-05-19T12:55:15.792Z"
   },
   {
    "duration": 12,
    "start_time": "2023-05-19T12:55:17.839Z"
   },
   {
    "duration": 5,
    "start_time": "2023-05-19T12:55:17.853Z"
   },
   {
    "duration": 47,
    "start_time": "2023-05-19T12:55:17.859Z"
   },
   {
    "duration": 10,
    "start_time": "2023-05-19T12:55:17.908Z"
   },
   {
    "duration": 39741,
    "start_time": "2023-05-19T12:55:17.920Z"
   },
   {
    "duration": 25,
    "start_time": "2023-05-19T12:55:57.663Z"
   },
   {
    "duration": 109,
    "start_time": "2023-05-19T12:55:57.693Z"
   },
   {
    "duration": 40,
    "start_time": "2023-05-19T12:55:57.804Z"
   },
   {
    "duration": 863,
    "start_time": "2023-05-19T12:55:57.845Z"
   },
   {
    "duration": 830,
    "start_time": "2023-05-19T12:55:58.709Z"
   },
   {
    "duration": 5468,
    "start_time": "2023-05-19T12:55:59.540Z"
   },
   {
    "duration": 209549,
    "start_time": "2023-05-19T12:56:05.009Z"
   },
   {
    "duration": 143809,
    "start_time": "2023-05-19T12:59:34.560Z"
   },
   {
    "duration": 10485,
    "start_time": "2023-05-19T13:01:58.370Z"
   },
   {
    "duration": 412533,
    "start_time": "2023-05-19T13:02:08.856Z"
   },
   {
    "duration": 2,
    "start_time": "2023-05-19T13:09:01.390Z"
   },
   {
    "duration": 56,
    "start_time": "2023-05-19T13:09:01.393Z"
   },
   {
    "duration": 3,
    "start_time": "2023-05-19T13:09:01.451Z"
   },
   {
    "duration": 8503,
    "start_time": "2023-05-19T13:09:01.456Z"
   },
   {
    "duration": 2185,
    "start_time": "2023-05-19T13:09:09.960Z"
   },
   {
    "duration": 85184,
    "start_time": "2023-05-19T13:09:12.146Z"
   },
   {
    "duration": 70517,
    "start_time": "2023-05-19T13:10:37.332Z"
   },
   {
    "duration": 2,
    "start_time": "2023-05-19T13:11:47.851Z"
   },
   {
    "duration": 13,
    "start_time": "2023-05-19T13:11:47.854Z"
   },
   {
    "duration": 6,
    "start_time": "2023-05-19T13:11:47.868Z"
   },
   {
    "duration": 626,
    "start_time": "2023-05-19T13:11:47.875Z"
   },
   {
    "duration": 28135,
    "start_time": "2023-05-19T13:11:48.503Z"
   },
   {
    "duration": 17576,
    "start_time": "2023-05-19T13:12:16.639Z"
   },
   {
    "duration": 5,
    "start_time": "2023-05-19T13:12:34.216Z"
   },
   {
    "duration": 21,
    "start_time": "2023-05-19T13:12:34.222Z"
   },
   {
    "duration": 22,
    "start_time": "2023-05-19T13:12:34.245Z"
   },
   {
    "duration": 30,
    "start_time": "2023-05-19T13:12:34.269Z"
   },
   {
    "duration": 22,
    "start_time": "2023-05-19T13:12:34.301Z"
   },
   {
    "duration": 77,
    "start_time": "2023-05-19T13:12:34.324Z"
   },
   {
    "duration": 53,
    "start_time": "2023-05-19T13:12:34.403Z"
   },
   {
    "duration": 27,
    "start_time": "2023-05-19T13:12:34.458Z"
   },
   {
    "duration": 336,
    "start_time": "2023-05-19T13:12:34.486Z"
   },
   {
    "duration": 45,
    "start_time": "2023-05-19T13:12:34.824Z"
   },
   {
    "duration": 13,
    "start_time": "2023-05-19T13:12:34.871Z"
   },
   {
    "duration": 6,
    "start_time": "2023-05-19T13:12:34.886Z"
   },
   {
    "duration": 20,
    "start_time": "2023-05-19T13:12:34.893Z"
   },
   {
    "duration": 8,
    "start_time": "2023-05-19T13:12:34.914Z"
   },
   {
    "duration": 447,
    "start_time": "2023-05-19T13:12:34.923Z"
   },
   {
    "duration": 58,
    "start_time": "2023-05-19T13:12:35.371Z"
   },
   {
    "duration": 5,
    "start_time": "2023-05-19T13:12:35.430Z"
   }
  ],
  "kernelspec": {
   "display_name": "Python 3 (ipykernel)",
   "language": "python",
   "name": "python3"
  },
  "language_info": {
   "codemirror_mode": {
    "name": "ipython",
    "version": 3
   },
   "file_extension": ".py",
   "mimetype": "text/x-python",
   "name": "python",
   "nbconvert_exporter": "python",
   "pygments_lexer": "ipython3",
   "version": "3.9.16"
  },
  "toc": {
   "base_numbering": 1,
   "nav_menu": {},
   "number_sections": true,
   "sideBar": true,
   "skip_h1_title": true,
   "title_cell": "Содержание",
   "title_sidebar": "Contents",
   "toc_cell": true,
   "toc_position": {
    "height": "calc(100% - 180px)",
    "left": "10px",
    "top": "150px",
    "width": "226.51px"
   },
   "toc_section_display": true,
   "toc_window_display": true
  },
  "varInspector": {
   "cols": {
    "lenName": 16,
    "lenType": 16,
    "lenVar": 40
   },
   "kernels_config": {
    "python": {
     "delete_cmd_postfix": "",
     "delete_cmd_prefix": "del ",
     "library": "var_list.py",
     "varRefreshCmd": "print(var_dic_list())"
    },
    "r": {
     "delete_cmd_postfix": ") ",
     "delete_cmd_prefix": "rm(",
     "library": "var_list.r",
     "varRefreshCmd": "cat(var_dic_list()) "
    }
   },
   "types_to_exclude": [
    "module",
    "function",
    "builtin_function_or_method",
    "instance",
    "_Feature"
   ],
   "window_display": false
  }
 },
 "nbformat": 4,
 "nbformat_minor": 2
}
